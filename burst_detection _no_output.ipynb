{
 "cells": [
  {
   "cell_type": "code",
   "execution_count": 1,
   "id": "ca55d17b",
   "metadata": {
    "execution": {
     "iopub.execute_input": "2022-09-25T23:48:27.219722Z",
     "iopub.status.busy": "2022-09-25T23:48:27.219601Z",
     "iopub.status.idle": "2022-09-25T23:48:29.918331Z",
     "shell.execute_reply": "2022-09-25T23:48:29.917006Z",
     "shell.execute_reply.started": "2022-09-25T23:48:27.219708Z"
    },
    "tags": []
   },
   "outputs": [],
   "source": [
    "!pip install burst_detection"
   ]
  },
  {
   "cell_type": "code",
   "execution_count": 2,
   "id": "2c503f17-c3ee-4c66-886e-03be8ff4878a",
   "metadata": {
    "execution": {
     "iopub.execute_input": "2022-09-25T23:48:29.947969Z",
     "iopub.status.busy": "2022-09-25T23:48:29.947832Z",
     "iopub.status.idle": "2022-09-25T23:48:30.196628Z",
     "shell.execute_reply": "2022-09-25T23:48:30.195809Z",
     "shell.execute_reply.started": "2022-09-25T23:48:29.947955Z"
    },
    "tags": []
   },
   "outputs": [],
   "source": [
    "import pandas as pd\n",
    "import burst_detection as bd\n",
    "import numpy as np"
   ]
  },
  {
   "cell_type": "code",
   "execution_count": null,
   "id": "173314a5-846e-4b3a-91c9-765662977d77",
   "metadata": {},
   "outputs": [],
   "source": [
    "print(' ')\n",
    "print('burst detection for:', column)\n",
    "print(' ')\n",
    "    \n",
    "#number of target events at each time point\n",
    "r = df['centuries_1'].to_numpy(dtype=float)\n",
    "    \n",
    "#total number of events at each time point\n",
    "d = df_all_posts['count'].to_numpy(dtype=float)\n",
    "        \n",
    "#number of time points\n",
    "n = len(r)\n",
    "    \n",
    "#find the optimal state sequence (q)\n",
    "q, d, r, p = bd.burst_detection(r,d,n,s=1.5,gamma=1,smooth_win=1)\n",
    "    \n",
    "#enumerate bursts based on the optimal state sequence\n",
    "bursts = bd.enumerate_bursts(q, 'burstLabel')\n",
    "    \n",
    "#find weight of bursts\n",
    "weighted_bursts = bd.burst_weights(bursts,r,d,p)\n",
    "    \n",
    "print('observed probabilities: ')\n",
    "print(str(r/d))\n",
    "\n",
    "print('optimal state sequence: ')\n",
    "print(str(q.T))\n",
    "\n",
    "print('baseline probability: ' + str(p[0]))\n",
    "\n",
    "print('bursty probability: ' + str(p[1]))\n",
    "\n",
    "print('weighted bursts:')\n",
    "print(weighted_bursts)\n",
    "\n",
    "org_r = r\n",
    "\n",
    "fig, ax1 = plt.subplots(figsize=(8, 5))\n",
    "ax1.plot(df_all_posts.index, org_r/d, color='#00bbcc', linewidth=1)\n",
    "plt.yticks(size=14);\n",
    "plt.xticks(df_all_posts.index, size=14);\n",
    "plt.ylabel('proportion of target events', size=14)\n",
    "plt.xlabel('burst sequence', size=14)\n",
    "\n",
    "ax2 = ax1.twiny() \n",
    "ax2.set_xlim(ax1.get_xlim())\n",
    "ax2.set_xticks(df_all_posts.index)\n",
    "\n",
    "ax2.xaxis.set_ticks_position(\"bottom\")\n",
    "ax2.xaxis.set_label_position(\"bottom\")\n",
    "\n",
    "ax2.spines[\"bottom\"].set_position((\"axes\", -0.2))\n",
    "\n",
    "ax2.set_frame_on(True)\n",
    "ax2.patch.set_visible(False)\n",
    "\n",
    "for sp in ax2.spines.values():\n",
    "    sp.set_visible(False)\n",
    "ax2.spines[\"bottom\"].set_visible(True)\n",
    "\n",
    "ax2.set_xlabel(r\"date\")\n",
    "\n",
    "ax2.set_xticklabels(df_all_posts['timestamp'], rotation=45, ha='right')\n",
    "\n",
    "flattened = []\n",
    "for sublist in q: \n",
    "    for val in sublist: \n",
    "        flattened.append(val)\n",
    "        \n",
    "burst_sequences = array(flattened)\n",
    "\n",
    "plt.fill_between(df_all_posts.index, plt.ylim()[1], plt.ylim()[0], alpha=0.4, where=(burst_sequences==True))\n",
    "\n",
    "print('___________________________________________')"
   ]
  },
  {
   "cell_type": "markdown",
   "id": "402a9330-011f-4950-b030-537e6c13b941",
   "metadata": {
    "tags": []
   },
   "source": [
    "# Centuries per Year"
   ]
  },
  {
   "cell_type": "code",
   "execution_count": 146,
   "id": "be461686-546c-4125-b71e-fbb811fc66b7",
   "metadata": {
    "execution": {
     "iopub.execute_input": "2022-09-25T20:57:50.031826Z",
     "iopub.status.busy": "2022-09-25T20:57:50.031267Z",
     "iopub.status.idle": "2022-09-25T20:57:50.066717Z",
     "shell.execute_reply": "2022-09-25T20:57:50.065735Z",
     "shell.execute_reply.started": "2022-09-25T20:57:50.031779Z"
    },
    "tags": []
   },
   "outputs": [],
   "source": [
    "df_all_posts = pd.read_csv('all_posts_per_year.csv')"
   ]
  },
  {
   "cell_type": "code",
   "execution_count": 147,
   "id": "c079f53a-03e4-43c2-b94b-5a48c11e0ede",
   "metadata": {
    "execution": {
     "iopub.execute_input": "2022-09-25T20:57:50.360853Z",
     "iopub.status.busy": "2022-09-25T20:57:50.360336Z",
     "iopub.status.idle": "2022-09-25T20:57:50.401976Z",
     "shell.execute_reply": "2022-09-25T20:57:50.400980Z",
     "shell.execute_reply.started": "2022-09-25T20:57:50.360806Z"
    },
    "tags": []
   },
   "outputs": [],
   "source": [
    "df = pd.read_csv('centuries_count_per_year.csv')"
   ]
  },
  {
   "cell_type": "code",
   "execution_count": 148,
   "id": "621ad836-2a48-4d29-956d-046e3c0c9a73",
   "metadata": {
    "execution": {
     "iopub.execute_input": "2022-09-25T20:57:50.804743Z",
     "iopub.status.busy": "2022-09-25T20:57:50.804209Z",
     "iopub.status.idle": "2022-09-25T20:57:50.811965Z",
     "shell.execute_reply": "2022-09-25T20:57:50.810995Z",
     "shell.execute_reply.started": "2022-09-25T20:57:50.804695Z"
    },
    "tags": []
   },
   "outputs": [],
   "source": [
    "df = df.drop('timestamp', axis=1)"
   ]
  },
  {
   "cell_type": "code",
   "execution_count": 150,
   "id": "4d958cc2-f0bd-46c5-b953-ddf1b0a965b7",
   "metadata": {
    "execution": {
     "iopub.execute_input": "2022-09-25T20:57:51.881976Z",
     "iopub.status.busy": "2022-09-25T20:57:51.881404Z",
     "iopub.status.idle": "2022-09-25T20:57:51.895313Z",
     "shell.execute_reply": "2022-09-25T20:57:51.894440Z",
     "shell.execute_reply.started": "2022-09-25T20:57:51.881926Z"
    },
    "tags": []
   },
   "outputs": [
    {
     "name": "stdout",
     "output_type": "stream",
     "text": [
      "Populating the interactive namespace from numpy and matplotlib\n"
     ]
    }
   ],
   "source": [
    "import matplotlib.pyplot as plt  \n",
    "import seaborn as sns\n",
    "from matplotlib import rcParams\n",
    "%pylab inline \n",
    "\n",
    "#set plot properties\n",
    "sns.set_style(\"white\")\n",
    "rcParams['font.size'] = 14"
   ]
  },
  {
   "cell_type": "code",
   "execution_count": 151,
   "id": "3538cf15-b241-47ce-bd43-571ea1e84599",
   "metadata": {
    "execution": {
     "iopub.execute_input": "2022-09-25T20:57:53.434110Z",
     "iopub.status.busy": "2022-09-25T20:57:53.433560Z",
     "iopub.status.idle": "2022-09-25T20:57:53.441763Z",
     "shell.execute_reply": "2022-09-25T20:57:53.441033Z",
     "shell.execute_reply.started": "2022-09-25T20:57:53.434063Z"
    },
    "tags": []
   },
   "outputs": [],
   "source": [
    "df_all_posts['timestamp'] = pd.DatetimeIndex(df_all_posts['timestamp']).year"
   ]
  },
  {
   "cell_type": "code",
   "execution_count": null,
   "id": "5182d1fa-3dbd-47af-bd21-54280126248c",
   "metadata": {
    "execution": {
     "iopub.execute_input": "2022-09-25T22:30:42.908583Z",
     "iopub.status.busy": "2022-09-25T22:30:42.908094Z",
     "iopub.status.idle": "2022-09-25T22:30:48.106934Z",
     "shell.execute_reply": "2022-09-25T22:30:48.106375Z",
     "shell.execute_reply.started": "2022-09-25T22:30:42.908537Z"
    },
    "tags": []
   },
   "outputs": [],
   "source": [
    "for column in df:\n",
    "    \n",
    "    print(' ')\n",
    "    print('burst detection for:', column)\n",
    "    print(' ')\n",
    "    \n",
    "    #number of target events at each time point\n",
    "    r = df[column].to_numpy(dtype=float)\n",
    "    \n",
    "    #total number of events at each time point\n",
    "    d = df_all_posts['count'].to_numpy(dtype=float)\n",
    "        \n",
    "    #number of time points\n",
    "    n = len(r)\n",
    "    \n",
    "    #find the optimal state sequence (q)\n",
    "    q, d, r, p = bd.burst_detection(r,d,n,s=1.5,gamma=1,smooth_win=1)\n",
    "    \n",
    "    #enumerate bursts based on the optimal state sequence\n",
    "    bursts = bd.enumerate_bursts(q, 'burstLabel')\n",
    "    \n",
    "    #find weight of bursts\n",
    "    weighted_bursts = bd.burst_weights(bursts,r,d,p)\n",
    "    \n",
    "    print('observed probabilities: ')\n",
    "    print(str(r/d))\n",
    "\n",
    "    print('optimal state sequence: ')\n",
    "    print(str(q.T))\n",
    "\n",
    "    print('baseline probability: ' + str(p[0]))\n",
    "\n",
    "    print('bursty probability: ' + str(p[1]))\n",
    "\n",
    "    print('weighted bursts:')\n",
    "    print(weighted_bursts)\n",
    "\n",
    "    org_r = r\n",
    "\n",
    "    fig, ax1 = plt.subplots(figsize=(8, 5))\n",
    "    ax1.plot(df_all_posts.index, org_r/d, color='#00bbcc', linewidth=1)\n",
    "    plt.yticks(size=14);\n",
    "    plt.xticks(df_all_posts.index, size=14);\n",
    "    plt.ylabel('proportion of target events', size=14)\n",
    "    plt.xlabel('burst sequence', size=14)\n",
    "\n",
    "    ax2 = ax1.twiny() \n",
    "    ax2.set_xlim(ax1.get_xlim())\n",
    "    ax2.set_xticks(df_all_posts.index)\n",
    "\n",
    "    ax2.xaxis.set_ticks_position(\"bottom\")\n",
    "    ax2.xaxis.set_label_position(\"bottom\")\n",
    "\n",
    "    ax2.spines[\"bottom\"].set_position((\"axes\", -0.2))\n",
    "\n",
    "    ax2.set_frame_on(True)\n",
    "    ax2.patch.set_visible(False)\n",
    "\n",
    "    for sp in ax2.spines.values():\n",
    "        sp.set_visible(False)\n",
    "    ax2.spines[\"bottom\"].set_visible(True)\n",
    "\n",
    "    ax2.set_xlabel(r\"date\")\n",
    "\n",
    "    ax2.set_xticklabels(df_all_posts['timestamp'], rotation=45, ha='right')\n",
    "\n",
    "    flattened = []\n",
    "    for sublist in q: \n",
    "        for val in sublist: \n",
    "            flattened.append(val)\n",
    "        \n",
    "    burst_sequences = array(flattened)\n",
    "\n",
    "    plt.fill_between(df_all_posts.index, plt.ylim()[1], plt.ylim()[0], alpha=0.4, where=(burst_sequences==True))\n",
    "    \n",
    "    plt.show()\n",
    "    \n",
    "    print('___________________________________________')"
   ]
  },
  {
   "cell_type": "markdown",
   "id": "de23fd97-87c1-4f13-8c97-c319fdd2c429",
   "metadata": {},
   "source": [
    "# Centuries per Month"
   ]
  },
  {
   "cell_type": "code",
   "execution_count": 362,
   "id": "36d3dd18-1c70-43a0-a723-57de8e13422c",
   "metadata": {
    "execution": {
     "iopub.execute_input": "2022-09-25T22:34:58.789200Z",
     "iopub.status.busy": "2022-09-25T22:34:58.788646Z",
     "iopub.status.idle": "2022-09-25T22:34:58.819081Z",
     "shell.execute_reply": "2022-09-25T22:34:58.817780Z",
     "shell.execute_reply.started": "2022-09-25T22:34:58.789150Z"
    },
    "tags": []
   },
   "outputs": [],
   "source": [
    "df_all_posts = pd.read_csv('all_posts_per_month.csv')"
   ]
  },
  {
   "cell_type": "code",
   "execution_count": 363,
   "id": "80c1e717-9f9d-48a5-aad4-35ad2a8e41e6",
   "metadata": {
    "execution": {
     "iopub.execute_input": "2022-09-25T22:34:59.166542Z",
     "iopub.status.busy": "2022-09-25T22:34:59.165844Z",
     "iopub.status.idle": "2022-09-25T22:34:59.225121Z",
     "shell.execute_reply": "2022-09-25T22:34:59.223804Z",
     "shell.execute_reply.started": "2022-09-25T22:34:59.166490Z"
    },
    "tags": []
   },
   "outputs": [],
   "source": [
    "df = pd.read_csv('centuries_count_per_month.csv')"
   ]
  },
  {
   "cell_type": "code",
   "execution_count": 364,
   "id": "e4f21bf4-d9c9-48f2-a95b-0441cd8731e4",
   "metadata": {
    "execution": {
     "iopub.execute_input": "2022-09-25T22:35:01.849190Z",
     "iopub.status.busy": "2022-09-25T22:35:01.848646Z",
     "iopub.status.idle": "2022-09-25T22:35:01.857345Z",
     "shell.execute_reply": "2022-09-25T22:35:01.856231Z",
     "shell.execute_reply.started": "2022-09-25T22:35:01.849140Z"
    },
    "tags": []
   },
   "outputs": [],
   "source": [
    "df = df.drop('timestamp', axis=1)"
   ]
  },
  {
   "cell_type": "code",
   "execution_count": 388,
   "id": "b2eafb9c-4041-44d6-9001-67050d080aa4",
   "metadata": {
    "execution": {
     "iopub.execute_input": "2022-09-25T22:47:58.573594Z",
     "iopub.status.busy": "2022-09-25T22:47:58.572999Z",
     "iopub.status.idle": "2022-09-25T22:47:58.585984Z",
     "shell.execute_reply": "2022-09-25T22:47:58.585326Z",
     "shell.execute_reply.started": "2022-09-25T22:47:58.573545Z"
    },
    "tags": []
   },
   "outputs": [
    {
     "name": "stdout",
     "output_type": "stream",
     "text": [
      "Populating the interactive namespace from numpy and matplotlib\n"
     ]
    }
   ],
   "source": [
    "import matplotlib.pyplot as plt  \n",
    "import seaborn as sns\n",
    "from matplotlib import rcParams\n",
    "%pylab inline \n",
    "\n",
    "#set plot properties\n",
    "sns.set_style(\"white\")\n",
    "rcParams['font.size'] = 14"
   ]
  },
  {
   "cell_type": "code",
   "execution_count": 371,
   "id": "def1b1b1-5b87-463e-928f-0b68f4a06a60",
   "metadata": {
    "execution": {
     "iopub.execute_input": "2022-09-25T22:36:58.940056Z",
     "iopub.status.busy": "2022-09-25T22:36:58.939555Z",
     "iopub.status.idle": "2022-09-25T22:36:58.949190Z",
     "shell.execute_reply": "2022-09-25T22:36:58.948487Z",
     "shell.execute_reply.started": "2022-09-25T22:36:58.940010Z"
    },
    "tags": []
   },
   "outputs": [],
   "source": [
    "df_all_posts['timestamp'] = pd.DatetimeIndex(df_all_posts['timestamp'])\n",
    "df_all_posts['timestamp'] = df_all_posts['timestamp'].dt.to_period('M')"
   ]
  },
  {
   "cell_type": "code",
   "execution_count": 440,
   "id": "90d2eeb6-efec-41c9-8acd-73b99627ddcd",
   "metadata": {
    "execution": {
     "iopub.execute_input": "2022-09-25T23:30:17.597356Z",
     "iopub.status.busy": "2022-09-25T23:30:17.596741Z",
     "iopub.status.idle": "2022-09-25T23:30:17.603758Z",
     "shell.execute_reply": "2022-09-25T23:30:17.602398Z",
     "shell.execute_reply.started": "2022-09-25T23:30:17.597307Z"
    },
    "tags": []
   },
   "outputs": [],
   "source": [
    "import matplotlib.ticker as plticker"
   ]
  },
  {
   "cell_type": "code",
   "execution_count": null,
   "id": "fb65ccc8-6f67-479c-9727-5e4121608137",
   "metadata": {
    "execution": {
     "iopub.execute_input": "2022-09-25T23:43:41.740814Z",
     "iopub.status.busy": "2022-09-25T23:43:41.740192Z",
     "iopub.status.idle": "2022-09-25T23:43:56.127762Z",
     "shell.execute_reply": "2022-09-25T23:43:56.127166Z",
     "shell.execute_reply.started": "2022-09-25T23:43:41.740765Z"
    },
    "tags": []
   },
   "outputs": [],
   "source": [
    "for column in df:\n",
    "    \n",
    "    print(' ')\n",
    "    print('burst detection for:', column)\n",
    "    print(' ')\n",
    "    \n",
    "    #number of target events at each time point\n",
    "    r = df[column].to_numpy(dtype=float)\n",
    "    \n",
    "    #total number of events at each time point\n",
    "    d = df_all_posts['count'].to_numpy(dtype=float)\n",
    "        \n",
    "    #number of time points\n",
    "    n = len(r)\n",
    "    \n",
    "    #find the optimal state sequence (q)\n",
    "    q, d, r, p = bd.burst_detection(r,d,n,s=1.5,gamma=1,smooth_win=1)\n",
    "    \n",
    "    #enumerate bursts based on the optimal state sequence\n",
    "    bursts = bd.enumerate_bursts(q, 'burstLabel')\n",
    "    \n",
    "    #find weight of bursts\n",
    "    weighted_bursts = bd.burst_weights(bursts,r,d,p)\n",
    "    \n",
    "    print('observed probabilities: ')\n",
    "    print(str(r/d))\n",
    "\n",
    "    print('optimal state sequence: ')\n",
    "    print(str(q.T))\n",
    "\n",
    "    print('baseline probability: ' + str(p[0]))\n",
    "\n",
    "    print('bursty probability: ' + str(p[1]))\n",
    "\n",
    "    print('weighted bursts:')\n",
    "    print(weighted_bursts)\n",
    "\n",
    "    org_r = r\n",
    "\n",
    "    fig, ax1 = plt.subplots(figsize=(15, 5))\n",
    "    ax1.plot(df_all_posts.index, org_r/d, color='#00bbcc', linewidth=1)\n",
    "    plt.yticks(size=14);\n",
    "    plt.xticks(np.arange(min(df_all_posts.index), max(df_all_posts.index)+1, 3))\n",
    "    plt.ylabel('proportion of target events', size=14)\n",
    "    plt.xlabel('burst sequence', size=14)\n",
    "\n",
    "    ax2 = ax1.twiny() \n",
    "    ax2.set_xlim(ax1.get_xlim())\n",
    "    ax2.set_xticks(df_all_posts.index)\n",
    "\n",
    "    ax2.xaxis.set_ticks_position(\"bottom\")\n",
    "    ax2.xaxis.set_label_position(\"bottom\")\n",
    "\n",
    "    ax2.spines[\"bottom\"].set_position((\"axes\", -0.2))\n",
    "\n",
    "    ax2.set_frame_on(True)\n",
    "    ax2.patch.set_visible(False)\n",
    "\n",
    "    for sp in ax2.spines.values():\n",
    "        sp.set_visible(False)\n",
    "    ax2.spines[\"bottom\"].set_visible(True)\n",
    "\n",
    "    ax2.set_xlabel(r\"date\")\n",
    "\n",
    "    ax2.set_xticklabels(df_all_posts['timestamp'], rotation=45, ha='right')\n",
    "    loc = plticker.MultipleLocator(base=3)\n",
    "    ax2.xaxis.set_major_locator(loc)\n",
    "\n",
    "    flattened = []\n",
    "    for sublist in q: \n",
    "        for val in sublist: \n",
    "            flattened.append(val)\n",
    "        \n",
    "    burst_sequences = array(flattened)\n",
    "\n",
    "    plt.fill_between(df_all_posts.index, plt.ylim()[1], plt.ylim()[0], alpha=0.4, where=(burst_sequences==True))\n",
    "    \n",
    "    plt.show()\n",
    "    \n",
    "    print('___________________________________________')"
   ]
  },
  {
   "cell_type": "markdown",
   "id": "26ee9b7e-3063-4329-b324-80ef1751a671",
   "metadata": {},
   "source": [
    "# Centuries per Day"
   ]
  },
  {
   "cell_type": "code",
   "execution_count": 3,
   "id": "97b23b94-01c0-42e3-ba35-8a102e800ccb",
   "metadata": {
    "execution": {
     "iopub.execute_input": "2022-09-25T23:48:41.837653Z",
     "iopub.status.busy": "2022-09-25T23:48:41.837155Z",
     "iopub.status.idle": "2022-09-25T23:48:41.852698Z",
     "shell.execute_reply": "2022-09-25T23:48:41.851858Z",
     "shell.execute_reply.started": "2022-09-25T23:48:41.837607Z"
    },
    "tags": []
   },
   "outputs": [],
   "source": [
    "df_all_posts = pd.read_csv('all_posts_per_day.csv')"
   ]
  },
  {
   "cell_type": "code",
   "execution_count": 4,
   "id": "a6a565bb-e978-4493-b666-b862fb541293",
   "metadata": {
    "execution": {
     "iopub.execute_input": "2022-09-25T23:48:42.368891Z",
     "iopub.status.busy": "2022-09-25T23:48:42.368375Z",
     "iopub.status.idle": "2022-09-25T23:48:42.385132Z",
     "shell.execute_reply": "2022-09-25T23:48:42.384296Z",
     "shell.execute_reply.started": "2022-09-25T23:48:42.368830Z"
    },
    "tags": []
   },
   "outputs": [],
   "source": [
    "df = pd.read_csv('centuries_count_per_day.csv')"
   ]
  },
  {
   "cell_type": "code",
   "execution_count": 5,
   "id": "90cc1f0f-c421-4e4d-b516-9c00bf74215c",
   "metadata": {
    "execution": {
     "iopub.execute_input": "2022-09-25T23:48:43.250255Z",
     "iopub.status.busy": "2022-09-25T23:48:43.249626Z",
     "iopub.status.idle": "2022-09-25T23:48:43.258548Z",
     "shell.execute_reply": "2022-09-25T23:48:43.257667Z",
     "shell.execute_reply.started": "2022-09-25T23:48:43.250203Z"
    },
    "tags": []
   },
   "outputs": [],
   "source": [
    "df = df.drop('timestamp', axis=1)"
   ]
  },
  {
   "cell_type": "code",
   "execution_count": 6,
   "id": "e2dd50c6-1c0e-45a9-8039-6f17f7abbab0",
   "metadata": {
    "execution": {
     "iopub.execute_input": "2022-09-25T23:48:44.311481Z",
     "iopub.status.busy": "2022-09-25T23:48:44.310856Z",
     "iopub.status.idle": "2022-09-25T23:48:44.735036Z",
     "shell.execute_reply": "2022-09-25T23:48:44.734427Z",
     "shell.execute_reply.started": "2022-09-25T23:48:44.311431Z"
    },
    "tags": []
   },
   "outputs": [
    {
     "name": "stdout",
     "output_type": "stream",
     "text": [
      "Populating the interactive namespace from numpy and matplotlib\n"
     ]
    }
   ],
   "source": [
    "import matplotlib.pyplot as plt  \n",
    "import seaborn as sns\n",
    "from matplotlib import rcParams\n",
    "%pylab inline \n",
    "\n",
    "#set plot properties\n",
    "sns.set_style(\"white\")\n",
    "rcParams['font.size'] = 14"
   ]
  },
  {
   "cell_type": "code",
   "execution_count": 7,
   "id": "5db2c485-379f-4d42-9d7c-9f8a32c116e0",
   "metadata": {
    "execution": {
     "iopub.execute_input": "2022-09-25T23:48:46.524162Z",
     "iopub.status.busy": "2022-09-25T23:48:46.523540Z",
     "iopub.status.idle": "2022-09-25T23:48:46.535637Z",
     "shell.execute_reply": "2022-09-25T23:48:46.534792Z",
     "shell.execute_reply.started": "2022-09-25T23:48:46.524112Z"
    },
    "tags": []
   },
   "outputs": [],
   "source": [
    "df_all_posts['timestamp'] = pd.DatetimeIndex(df_all_posts['timestamp'])\n",
    "df_all_posts['timestamp'] = df_all_posts['timestamp'].dt.to_period('D')"
   ]
  },
  {
   "cell_type": "code",
   "execution_count": 8,
   "id": "a4b057cb-ba12-43da-92bd-cddadbf3007a",
   "metadata": {
    "execution": {
     "iopub.execute_input": "2022-09-25T23:48:48.059138Z",
     "iopub.status.busy": "2022-09-25T23:48:48.058626Z",
     "iopub.status.idle": "2022-09-25T23:48:48.065411Z",
     "shell.execute_reply": "2022-09-25T23:48:48.064403Z",
     "shell.execute_reply.started": "2022-09-25T23:48:48.059090Z"
    },
    "tags": []
   },
   "outputs": [],
   "source": [
    "import matplotlib.ticker as plticker"
   ]
  },
  {
   "cell_type": "code",
   "execution_count": null,
   "id": "0bcf6e4a-7968-4944-9b70-1dbc232ed6fc",
   "metadata": {
    "execution": {
     "iopub.execute_input": "2022-09-26T00:17:58.966011Z",
     "iopub.status.busy": "2022-09-26T00:17:58.965506Z",
     "iopub.status.idle": "2022-09-26T00:20:46.809434Z",
     "shell.execute_reply": "2022-09-26T00:20:46.808790Z",
     "shell.execute_reply.started": "2022-09-26T00:17:58.965965Z"
    },
    "tags": []
   },
   "outputs": [],
   "source": [
    "for column in df:\n",
    "    \n",
    "    print(' ')\n",
    "    print('burst detection for:', column)\n",
    "    print(' ')\n",
    "    \n",
    "    #number of target events at each time point\n",
    "    df_list = df[column].to_numpy(dtype=float)\n",
    "    r = np.array(df_list, dtype=float)\n",
    "    \n",
    "    #total number of events at each time point\n",
    "    df_all_posts_list = df_all_posts['count'].tolist()\n",
    "    d = np.array(df_all_posts_list, dtype=float)\n",
    "        \n",
    "    #number of time points\n",
    "    n = len(r)\n",
    "    \n",
    "    #find the optimal state sequence (q)\n",
    "    q, d, r, p = bd.burst_detection(r,d,n,s=1.5,gamma=1,smooth_win=1)\n",
    "    \n",
    "    #enumerate bursts based on the optimal state sequence\n",
    "    bursts = bd.enumerate_bursts(q, 'burstLabel')\n",
    "    \n",
    "    #find weight of bursts\n",
    "    weighted_bursts = bd.burst_weights(bursts,r,d,p)\n",
    "    \n",
    "    print('observed probabilities: ')\n",
    "    print(str(r/d))\n",
    "\n",
    "    print('optimal state sequence: ')\n",
    "    print(str(q.T))\n",
    "\n",
    "    print('baseline probability: ' + str(p[0]))\n",
    "\n",
    "    print('bursty probability: ' + str(p[1]))\n",
    "\n",
    "    print('weighted bursts:')\n",
    "    print(weighted_bursts)\n",
    "\n",
    "    org_r = r\n",
    "\n",
    "    fig, ax1 = plt.subplots(figsize=(15, 5))\n",
    "    ax1.plot(df_all_posts.index, org_r/d, color='#00bbcc', linewidth=1)\n",
    "    plt.yticks(size=14);\n",
    "    plt.xticks(np.arange(min(df_all_posts.index), max(df_all_posts.index)+1, 200))\n",
    "    plt.ylabel('proportion of target events', size=14)\n",
    "    plt.xlabel('burst sequence', size=14)\n",
    "\n",
    "    ax2 = ax1.twiny() \n",
    "    ax2.set_xlim(ax1.get_xlim())\n",
    "    ax2.set_xticks(df_all_posts.index)\n",
    "\n",
    "    ax2.xaxis.set_ticks_position(\"bottom\")\n",
    "    ax2.xaxis.set_label_position(\"bottom\")\n",
    "\n",
    "    ax2.spines[\"bottom\"].set_position((\"axes\", -0.2))\n",
    "\n",
    "    ax2.set_frame_on(True)\n",
    "    ax2.patch.set_visible(False)\n",
    "\n",
    "    for sp in ax2.spines.values():\n",
    "        sp.set_visible(False)\n",
    "    ax2.spines[\"bottom\"].set_visible(True)\n",
    "\n",
    "    ax2.set_xlabel(r\"date\")\n",
    "\n",
    "    ax2.set_xticklabels(df_all_posts['timestamp'], rotation=45, ha='right')\n",
    "    loc = plticker.MultipleLocator(base=70)\n",
    "    ax2.xaxis.set_major_locator(loc)\n",
    "\n",
    "    flattened = []\n",
    "    for sublist in q: \n",
    "        for val in sublist: \n",
    "            flattened.append(val)\n",
    "        \n",
    "    burst_sequences = array(flattened)\n",
    "\n",
    "    plt.fill_between(df_all_posts.index, plt.ylim()[1], plt.ylim()[0], alpha=0.4, where=(burst_sequences==True), color='green')\n",
    "    \n",
    "    plt.show()\n",
    "    \n",
    "    print('___________________________________________')"
   ]
  },
  {
   "cell_type": "markdown",
   "id": "7b190bd3-ec7f-4302-92f1-5867e1372692",
   "metadata": {},
   "source": [
    "# Centuries per Week"
   ]
  },
  {
   "cell_type": "code",
   "execution_count": 57,
   "id": "d942c362-c0bf-43ff-abe2-8d005cc5e638",
   "metadata": {
    "execution": {
     "iopub.execute_input": "2022-09-26T00:23:29.092398Z",
     "iopub.status.busy": "2022-09-26T00:23:29.091901Z",
     "iopub.status.idle": "2022-09-26T00:23:29.102393Z",
     "shell.execute_reply": "2022-09-26T00:23:29.101616Z",
     "shell.execute_reply.started": "2022-09-26T00:23:29.092350Z"
    },
    "tags": []
   },
   "outputs": [],
   "source": [
    "df_all_posts = pd.read_csv('all_posts_per_week.csv')"
   ]
  },
  {
   "cell_type": "code",
   "execution_count": 58,
   "id": "0e6f6a28-b7a2-446d-9083-845cbe8c61d3",
   "metadata": {
    "execution": {
     "iopub.execute_input": "2022-09-26T00:23:29.355945Z",
     "iopub.status.busy": "2022-09-26T00:23:29.355442Z",
     "iopub.status.idle": "2022-09-26T00:23:29.368664Z",
     "shell.execute_reply": "2022-09-26T00:23:29.367913Z",
     "shell.execute_reply.started": "2022-09-26T00:23:29.355899Z"
    },
    "tags": []
   },
   "outputs": [],
   "source": [
    "df = pd.read_csv('centuries_count_per_week.csv')"
   ]
  },
  {
   "cell_type": "code",
   "execution_count": 59,
   "id": "6bd2a3f8-664d-4063-be93-979a3206effd",
   "metadata": {
    "execution": {
     "iopub.execute_input": "2022-09-26T00:23:29.687011Z",
     "iopub.status.busy": "2022-09-26T00:23:29.686386Z",
     "iopub.status.idle": "2022-09-26T00:23:29.694727Z",
     "shell.execute_reply": "2022-09-26T00:23:29.693716Z",
     "shell.execute_reply.started": "2022-09-26T00:23:29.686961Z"
    },
    "tags": []
   },
   "outputs": [],
   "source": [
    "df = df.drop('timestamp', axis=1)"
   ]
  },
  {
   "cell_type": "code",
   "execution_count": 60,
   "id": "9afd265d-09ae-40ff-bc99-a8ec56bedb4e",
   "metadata": {
    "execution": {
     "iopub.execute_input": "2022-09-26T00:23:30.518635Z",
     "iopub.status.busy": "2022-09-26T00:23:30.518014Z",
     "iopub.status.idle": "2022-09-26T00:23:30.530510Z",
     "shell.execute_reply": "2022-09-26T00:23:30.529790Z",
     "shell.execute_reply.started": "2022-09-26T00:23:30.518588Z"
    },
    "tags": []
   },
   "outputs": [
    {
     "name": "stdout",
     "output_type": "stream",
     "text": [
      "Populating the interactive namespace from numpy and matplotlib\n"
     ]
    }
   ],
   "source": [
    "import matplotlib.pyplot as plt  \n",
    "import seaborn as sns\n",
    "from matplotlib import rcParams\n",
    "%pylab inline \n",
    "\n",
    "#set plot properties\n",
    "sns.set_style(\"white\")\n",
    "rcParams['font.size'] = 14"
   ]
  },
  {
   "cell_type": "code",
   "execution_count": 61,
   "id": "b41f2e86-e75f-424b-bfae-e0da847618ce",
   "metadata": {
    "execution": {
     "iopub.execute_input": "2022-09-26T00:23:40.310551Z",
     "iopub.status.busy": "2022-09-26T00:23:40.309937Z",
     "iopub.status.idle": "2022-09-26T00:23:40.320371Z",
     "shell.execute_reply": "2022-09-26T00:23:40.319683Z",
     "shell.execute_reply.started": "2022-09-26T00:23:40.310502Z"
    },
    "tags": []
   },
   "outputs": [],
   "source": [
    "df_all_posts['timestamp'] = pd.DatetimeIndex(df_all_posts['timestamp'])\n",
    "df_all_posts['timestamp'] = df_all_posts['timestamp'].dt.to_period('D')"
   ]
  },
  {
   "cell_type": "code",
   "execution_count": 62,
   "id": "3cf8d4fa-1bdb-4189-b75a-2f795e9f6793",
   "metadata": {
    "execution": {
     "iopub.execute_input": "2022-09-26T00:23:40.755963Z",
     "iopub.status.busy": "2022-09-26T00:23:40.755350Z",
     "iopub.status.idle": "2022-09-26T00:23:40.766623Z",
     "shell.execute_reply": "2022-09-26T00:23:40.765942Z",
     "shell.execute_reply.started": "2022-09-26T00:23:40.755915Z"
    },
    "tags": []
   },
   "outputs": [
    {
     "data": {
      "text/plain": [
       "0      2013-12-02\n",
       "1      2013-12-09\n",
       "2      2013-12-16\n",
       "3      2013-12-23\n",
       "4      2013-12-30\n",
       "          ...    \n",
       "421    2021-12-27\n",
       "422    2022-01-03\n",
       "423    2022-01-10\n",
       "424    2022-01-17\n",
       "425    2022-01-24\n",
       "Name: timestamp, Length: 426, dtype: period[D]"
      ]
     },
     "execution_count": 62,
     "metadata": {},
     "output_type": "execute_result"
    }
   ],
   "source": [
    "df_all_posts['timestamp']"
   ]
  },
  {
   "cell_type": "code",
   "execution_count": 63,
   "id": "1a7f2b36-8a8b-4962-a400-81a733545a79",
   "metadata": {
    "execution": {
     "iopub.execute_input": "2022-09-26T00:23:47.401932Z",
     "iopub.status.busy": "2022-09-26T00:23:47.401310Z",
     "iopub.status.idle": "2022-09-26T00:23:47.407596Z",
     "shell.execute_reply": "2022-09-26T00:23:47.406497Z",
     "shell.execute_reply.started": "2022-09-26T00:23:47.401867Z"
    },
    "tags": []
   },
   "outputs": [],
   "source": [
    "import matplotlib.ticker as plticker"
   ]
  },
  {
   "cell_type": "code",
   "execution_count": null,
   "id": "99fce274-4f14-41f5-bb71-1710aa7fb037",
   "metadata": {
    "execution": {
     "iopub.execute_input": "2022-09-26T00:24:47.400128Z",
     "iopub.status.busy": "2022-09-26T00:24:47.399498Z",
     "iopub.status.idle": "2022-09-26T00:25:20.278836Z",
     "shell.execute_reply": "2022-09-26T00:25:20.278192Z",
     "shell.execute_reply.started": "2022-09-26T00:24:47.400079Z"
    },
    "tags": []
   },
   "outputs": [],
   "source": [
    "for column in df:\n",
    "    \n",
    "    print(' ')\n",
    "    print('burst detection for:', column)\n",
    "    print(' ')\n",
    "    \n",
    "    #number of target events at each time point\n",
    "    df_list = df[column].to_numpy(dtype=float)\n",
    "    r = np.array(df_list, dtype=float)\n",
    "    \n",
    "    #total number of events at each time point\n",
    "    df_all_posts_list = df_all_posts['count'].tolist()\n",
    "    d = np.array(df_all_posts_list, dtype=float)\n",
    "        \n",
    "    #number of time points\n",
    "    n = len(r)\n",
    "    \n",
    "    #find the optimal state sequence (q)\n",
    "    q, d, r, p = bd.burst_detection(r,d,n,s=1.5,gamma=1,smooth_win=1)\n",
    "    \n",
    "    #enumerate bursts based on the optimal state sequence\n",
    "    bursts = bd.enumerate_bursts(q, 'burstLabel')\n",
    "    \n",
    "    #find weight of bursts\n",
    "    weighted_bursts = bd.burst_weights(bursts,r,d,p)\n",
    "    \n",
    "    print('observed probabilities: ')\n",
    "    print(str(r/d))\n",
    "\n",
    "    print('optimal state sequence: ')\n",
    "    print(str(q.T))\n",
    "\n",
    "    print('baseline probability: ' + str(p[0]))\n",
    "\n",
    "    print('bursty probability: ' + str(p[1]))\n",
    "\n",
    "    print('weighted bursts:')\n",
    "    print(weighted_bursts)\n",
    "\n",
    "    org_r = r\n",
    "\n",
    "    fig, ax1 = plt.subplots(figsize=(15, 5))\n",
    "    ax1.plot(df_all_posts.index, org_r/d, color='#00bbcc', linewidth=1)\n",
    "    plt.yticks(size=14);\n",
    "    plt.xticks(np.arange(min(df_all_posts.index), max(df_all_posts.index)+1, 20))\n",
    "    plt.ylabel('proportion of target events', size=14)\n",
    "    plt.xlabel('burst sequence', size=14)\n",
    "\n",
    "    ax2 = ax1.twiny() \n",
    "    ax2.set_xlim(ax1.get_xlim())\n",
    "    ax2.set_xticks(df_all_posts.index)\n",
    "\n",
    "    ax2.xaxis.set_ticks_position(\"bottom\")\n",
    "    ax2.xaxis.set_label_position(\"bottom\")\n",
    "\n",
    "    ax2.spines[\"bottom\"].set_position((\"axes\", -0.2))\n",
    "\n",
    "    ax2.set_frame_on(True)\n",
    "    ax2.patch.set_visible(False)\n",
    "\n",
    "    for sp in ax2.spines.values():\n",
    "        sp.set_visible(False)\n",
    "    ax2.spines[\"bottom\"].set_visible(True)\n",
    "\n",
    "    ax2.set_xlabel(r\"date\")\n",
    "\n",
    "    ax2.set_xticklabels(df_all_posts['timestamp'], rotation=45, ha='right')\n",
    "    loc = plticker.MultipleLocator(base=10)\n",
    "    ax2.xaxis.set_major_locator(loc)\n",
    "\n",
    "    flattened = []\n",
    "    for sublist in q: \n",
    "        for val in sublist: \n",
    "            flattened.append(val)\n",
    "        \n",
    "    burst_sequences = array(flattened)\n",
    "\n",
    "    plt.fill_between(df_all_posts.index, plt.ylim()[1], plt.ylim()[0], alpha=0.4, where=(burst_sequences==True), color='green')\n",
    "    \n",
    "    plt.show()\n",
    "    \n",
    "    print('___________________________________________')"
   ]
  },
  {
   "cell_type": "markdown",
   "id": "7c35e94f-f548-4a35-a610-6e31b51efc9a",
   "metadata": {},
   "source": [
    "# Decades per Year"
   ]
  },
  {
   "cell_type": "code",
   "execution_count": 67,
   "id": "9953db95-bfae-4256-9f0e-793f76ba9f3c",
   "metadata": {
    "execution": {
     "iopub.execute_input": "2022-09-26T00:27:25.590723Z",
     "iopub.status.busy": "2022-09-26T00:27:25.590100Z",
     "iopub.status.idle": "2022-09-26T00:27:25.601473Z",
     "shell.execute_reply": "2022-09-26T00:27:25.600372Z",
     "shell.execute_reply.started": "2022-09-26T00:27:25.590674Z"
    },
    "tags": []
   },
   "outputs": [],
   "source": [
    "df_all_posts = pd.read_csv('all_posts_per_year.csv')"
   ]
  },
  {
   "cell_type": "code",
   "execution_count": 71,
   "id": "03760386-865f-4adc-a4bd-a02a2c66d859",
   "metadata": {
    "execution": {
     "iopub.execute_input": "2022-09-26T00:27:48.881930Z",
     "iopub.status.busy": "2022-09-26T00:27:48.881314Z",
     "iopub.status.idle": "2022-09-26T00:27:48.893401Z",
     "shell.execute_reply": "2022-09-26T00:27:48.892403Z",
     "shell.execute_reply.started": "2022-09-26T00:27:48.881867Z"
    },
    "tags": []
   },
   "outputs": [],
   "source": [
    "df = pd.read_csv('decades_count_per_year.csv')"
   ]
  },
  {
   "cell_type": "code",
   "execution_count": 73,
   "id": "335feab7-1676-40df-9147-994dfd6cb98f",
   "metadata": {
    "execution": {
     "iopub.execute_input": "2022-09-26T00:27:51.698485Z",
     "iopub.status.busy": "2022-09-26T00:27:51.697873Z",
     "iopub.status.idle": "2022-09-26T00:27:51.705965Z",
     "shell.execute_reply": "2022-09-26T00:27:51.704965Z",
     "shell.execute_reply.started": "2022-09-26T00:27:51.698436Z"
    },
    "tags": []
   },
   "outputs": [],
   "source": [
    "df = df.drop('timestamp', axis=1)"
   ]
  },
  {
   "cell_type": "code",
   "execution_count": 75,
   "id": "4979d408-922e-4756-8c33-a0582288f2a3",
   "metadata": {
    "execution": {
     "iopub.execute_input": "2022-09-26T00:27:56.273980Z",
     "iopub.status.busy": "2022-09-26T00:27:56.272968Z",
     "iopub.status.idle": "2022-09-26T00:27:56.286174Z",
     "shell.execute_reply": "2022-09-26T00:27:56.285302Z",
     "shell.execute_reply.started": "2022-09-26T00:27:56.273931Z"
    },
    "tags": []
   },
   "outputs": [
    {
     "name": "stdout",
     "output_type": "stream",
     "text": [
      "Populating the interactive namespace from numpy and matplotlib\n"
     ]
    }
   ],
   "source": [
    "import matplotlib.pyplot as plt  \n",
    "import seaborn as sns\n",
    "from matplotlib import rcParams\n",
    "%pylab inline \n",
    "\n",
    "#set plot properties\n",
    "sns.set_style(\"white\")\n",
    "rcParams['font.size'] = 14"
   ]
  },
  {
   "cell_type": "code",
   "execution_count": 76,
   "id": "131b70f3-c842-4cac-87ca-0d990b4daa95",
   "metadata": {
    "execution": {
     "iopub.execute_input": "2022-09-26T00:28:03.876821Z",
     "iopub.status.busy": "2022-09-26T00:28:03.876341Z",
     "iopub.status.idle": "2022-09-26T00:28:03.886706Z",
     "shell.execute_reply": "2022-09-26T00:28:03.885715Z",
     "shell.execute_reply.started": "2022-09-26T00:28:03.876776Z"
    },
    "tags": []
   },
   "outputs": [],
   "source": [
    "df_all_posts['timestamp'] = pd.DatetimeIndex(df_all_posts['timestamp'])\n",
    "df_all_posts['timestamp'] = df_all_posts['timestamp'].dt.to_period('Y')"
   ]
  },
  {
   "cell_type": "code",
   "execution_count": 77,
   "id": "13034dd8-f400-4513-9965-f0dfad47ade2",
   "metadata": {
    "execution": {
     "iopub.execute_input": "2022-09-26T00:28:04.470253Z",
     "iopub.status.busy": "2022-09-26T00:28:04.469753Z",
     "iopub.status.idle": "2022-09-26T00:28:04.479823Z",
     "shell.execute_reply": "2022-09-26T00:28:04.478961Z",
     "shell.execute_reply.started": "2022-09-26T00:28:04.470208Z"
    },
    "tags": []
   },
   "outputs": [
    {
     "data": {
      "text/plain": [
       "0    2013\n",
       "1    2014\n",
       "2    2015\n",
       "3    2016\n",
       "4    2017\n",
       "5    2018\n",
       "6    2019\n",
       "7    2020\n",
       "8    2021\n",
       "9    2022\n",
       "Name: timestamp, dtype: period[A-DEC]"
      ]
     },
     "execution_count": 77,
     "metadata": {},
     "output_type": "execute_result"
    }
   ],
   "source": [
    "df_all_posts['timestamp']"
   ]
  },
  {
   "cell_type": "code",
   "execution_count": 78,
   "id": "3d40a928-f1d5-4a5e-b2f7-8d69d66258be",
   "metadata": {
    "execution": {
     "iopub.execute_input": "2022-09-26T00:28:08.731103Z",
     "iopub.status.busy": "2022-09-26T00:28:08.730606Z",
     "iopub.status.idle": "2022-09-26T00:28:08.737300Z",
     "shell.execute_reply": "2022-09-26T00:28:08.736157Z",
     "shell.execute_reply.started": "2022-09-26T00:28:08.731057Z"
    },
    "tags": []
   },
   "outputs": [],
   "source": [
    "import matplotlib.ticker as plticker"
   ]
  },
  {
   "cell_type": "code",
   "execution_count": null,
   "id": "765e6b02-517e-44b4-83ad-3fe171757119",
   "metadata": {
    "execution": {
     "iopub.execute_input": "2022-09-26T00:28:34.035404Z",
     "iopub.status.busy": "2022-09-26T00:28:34.034917Z",
     "iopub.status.idle": "2022-09-26T00:28:38.702568Z",
     "shell.execute_reply": "2022-09-26T00:28:38.701956Z",
     "shell.execute_reply.started": "2022-09-26T00:28:34.035358Z"
    },
    "tags": []
   },
   "outputs": [],
   "source": [
    "for column in df:\n",
    "    \n",
    "    print(' ')\n",
    "    print('burst detection for:', column)\n",
    "    print(' ')\n",
    "    \n",
    "    #number of target events at each time point\n",
    "    df_list = df[column].to_numpy(dtype=float)\n",
    "    r = np.array(df_list, dtype=float)\n",
    "    \n",
    "    #total number of events at each time point\n",
    "    df_all_posts_list = df_all_posts['count'].tolist()\n",
    "    d = np.array(df_all_posts_list, dtype=float)\n",
    "        \n",
    "    #number of time points\n",
    "    n = len(r)\n",
    "    \n",
    "    #find the optimal state sequence (q)\n",
    "    q, d, r, p = bd.burst_detection(r,d,n,s=1.5,gamma=1,smooth_win=1)\n",
    "    \n",
    "    #enumerate bursts based on the optimal state sequence\n",
    "    bursts = bd.enumerate_bursts(q, 'burstLabel')\n",
    "    \n",
    "    #find weight of bursts\n",
    "    weighted_bursts = bd.burst_weights(bursts,r,d,p)\n",
    "    \n",
    "    print('observed probabilities: ')\n",
    "    print(str(r/d))\n",
    "\n",
    "    print('optimal state sequence: ')\n",
    "    print(str(q.T))\n",
    "\n",
    "    print('baseline probability: ' + str(p[0]))\n",
    "\n",
    "    print('bursty probability: ' + str(p[1]))\n",
    "\n",
    "    print('weighted bursts:')\n",
    "    print(weighted_bursts)\n",
    "\n",
    "    org_r = r\n",
    "\n",
    "    fig, ax1 = plt.subplots(figsize=(15, 5))\n",
    "    ax1.plot(df_all_posts.index, org_r/d, color='#00bbcc', linewidth=1)\n",
    "    plt.yticks(size=14);\n",
    "    plt.xticks(np.arange(min(df_all_posts.index), max(df_all_posts.index)+1, 1))\n",
    "    plt.ylabel('proportion of target events', size=14)\n",
    "    plt.xlabel('burst sequence', size=14)\n",
    "\n",
    "    ax2 = ax1.twiny() \n",
    "    ax2.set_xlim(ax1.get_xlim())\n",
    "    ax2.set_xticks(df_all_posts.index)\n",
    "\n",
    "    ax2.xaxis.set_ticks_position(\"bottom\")\n",
    "    ax2.xaxis.set_label_position(\"bottom\")\n",
    "\n",
    "    ax2.spines[\"bottom\"].set_position((\"axes\", -0.2))\n",
    "\n",
    "    ax2.set_frame_on(True)\n",
    "    ax2.patch.set_visible(False)\n",
    "\n",
    "    for sp in ax2.spines.values():\n",
    "        sp.set_visible(False)\n",
    "    ax2.spines[\"bottom\"].set_visible(True)\n",
    "\n",
    "    ax2.set_xlabel(r\"date\")\n",
    "\n",
    "    ax2.set_xticklabels(df_all_posts['timestamp'], rotation=45, ha='right')\n",
    "    loc = plticker.MultipleLocator(base=1)\n",
    "    ax2.xaxis.set_major_locator(loc)\n",
    "\n",
    "    flattened = []\n",
    "    for sublist in q: \n",
    "        for val in sublist: \n",
    "            flattened.append(val)\n",
    "        \n",
    "    burst_sequences = array(flattened)\n",
    "\n",
    "    plt.fill_between(df_all_posts.index, plt.ylim()[1], plt.ylim()[0], alpha=0.4, where=(burst_sequences==True), color='green')\n",
    "    \n",
    "    plt.show()\n",
    "    \n",
    "    print('___________________________________________')"
   ]
  },
  {
   "cell_type": "markdown",
   "id": "0e471f26-1656-4dfe-8fea-ad52ffe438fe",
   "metadata": {},
   "source": [
    "# Decades per Month"
   ]
  },
  {
   "cell_type": "code",
   "execution_count": 80,
   "id": "f52bfe63-cab2-4c65-b3ea-3f3819a61592",
   "metadata": {
    "execution": {
     "iopub.execute_input": "2022-09-26T00:30:24.661264Z",
     "iopub.status.busy": "2022-09-26T00:30:24.660619Z",
     "iopub.status.idle": "2022-09-26T00:30:24.671400Z",
     "shell.execute_reply": "2022-09-26T00:30:24.670387Z",
     "shell.execute_reply.started": "2022-09-26T00:30:24.661213Z"
    },
    "tags": []
   },
   "outputs": [],
   "source": [
    "df_all_posts = pd.read_csv('all_posts_per_month.csv')"
   ]
  },
  {
   "cell_type": "code",
   "execution_count": 81,
   "id": "61d3ce08-1094-4706-8bef-e64fbc5427d0",
   "metadata": {
    "execution": {
     "iopub.execute_input": "2022-09-26T00:30:24.981356Z",
     "iopub.status.busy": "2022-09-26T00:30:24.980738Z",
     "iopub.status.idle": "2022-09-26T00:30:25.018866Z",
     "shell.execute_reply": "2022-09-26T00:30:25.017974Z",
     "shell.execute_reply.started": "2022-09-26T00:30:24.981306Z"
    },
    "tags": []
   },
   "outputs": [],
   "source": [
    "df = pd.read_csv('decades_count_per_month.csv')"
   ]
  },
  {
   "cell_type": "code",
   "execution_count": 82,
   "id": "28e68016-695a-46ab-a73a-c3e443543b5e",
   "metadata": {
    "execution": {
     "iopub.execute_input": "2022-09-26T00:30:26.626271Z",
     "iopub.status.busy": "2022-09-26T00:30:26.625651Z",
     "iopub.status.idle": "2022-09-26T00:30:26.633191Z",
     "shell.execute_reply": "2022-09-26T00:30:26.632359Z",
     "shell.execute_reply.started": "2022-09-26T00:30:26.626223Z"
    },
    "tags": []
   },
   "outputs": [],
   "source": [
    "df = df.drop('timestamp', axis=1)"
   ]
  },
  {
   "cell_type": "code",
   "execution_count": 83,
   "id": "8652e1d7-4ec3-4da9-8376-698f0e65af51",
   "metadata": {
    "execution": {
     "iopub.execute_input": "2022-09-26T00:30:28.395791Z",
     "iopub.status.busy": "2022-09-26T00:30:28.395177Z",
     "iopub.status.idle": "2022-09-26T00:30:28.408516Z",
     "shell.execute_reply": "2022-09-26T00:30:28.407840Z",
     "shell.execute_reply.started": "2022-09-26T00:30:28.395741Z"
    },
    "tags": []
   },
   "outputs": [
    {
     "name": "stdout",
     "output_type": "stream",
     "text": [
      "Populating the interactive namespace from numpy and matplotlib\n"
     ]
    }
   ],
   "source": [
    "import matplotlib.pyplot as plt  \n",
    "import seaborn as sns\n",
    "from matplotlib import rcParams\n",
    "%pylab inline \n",
    "\n",
    "#set plot properties\n",
    "sns.set_style(\"white\")\n",
    "rcParams['font.size'] = 14"
   ]
  },
  {
   "cell_type": "code",
   "execution_count": 84,
   "id": "1ed2f8ec-35c1-4d74-993c-8789a636985d",
   "metadata": {
    "execution": {
     "iopub.execute_input": "2022-09-26T00:30:31.058963Z",
     "iopub.status.busy": "2022-09-26T00:30:31.057955Z",
     "iopub.status.idle": "2022-09-26T00:30:31.068137Z",
     "shell.execute_reply": "2022-09-26T00:30:31.067132Z",
     "shell.execute_reply.started": "2022-09-26T00:30:31.058914Z"
    },
    "tags": []
   },
   "outputs": [],
   "source": [
    "df_all_posts['timestamp'] = pd.DatetimeIndex(df_all_posts['timestamp'])\n",
    "df_all_posts['timestamp'] = df_all_posts['timestamp'].dt.to_period('M')"
   ]
  },
  {
   "cell_type": "code",
   "execution_count": 85,
   "id": "257a6570-18df-45c9-b8b2-3dbb506c42bf",
   "metadata": {
    "execution": {
     "iopub.execute_input": "2022-09-26T00:30:31.395412Z",
     "iopub.status.busy": "2022-09-26T00:30:31.394462Z",
     "iopub.status.idle": "2022-09-26T00:30:31.405362Z",
     "shell.execute_reply": "2022-09-26T00:30:31.404608Z",
     "shell.execute_reply.started": "2022-09-26T00:30:31.395363Z"
    },
    "tags": []
   },
   "outputs": [
    {
     "data": {
      "text/plain": [
       "0     2013-11\n",
       "1     2013-12\n",
       "2     2014-01\n",
       "3     2014-02\n",
       "4     2014-03\n",
       "       ...   \n",
       "94    2021-09\n",
       "95    2021-10\n",
       "96    2021-11\n",
       "97    2021-12\n",
       "98    2022-01\n",
       "Name: timestamp, Length: 99, dtype: period[M]"
      ]
     },
     "execution_count": 85,
     "metadata": {},
     "output_type": "execute_result"
    }
   ],
   "source": [
    "df_all_posts['timestamp']"
   ]
  },
  {
   "cell_type": "code",
   "execution_count": 86,
   "id": "c30130e4-3e29-43c9-8b3f-45cc6d277541",
   "metadata": {
    "execution": {
     "iopub.execute_input": "2022-09-26T00:30:35.553859Z",
     "iopub.status.busy": "2022-09-26T00:30:35.552871Z",
     "iopub.status.idle": "2022-09-26T00:30:35.558963Z",
     "shell.execute_reply": "2022-09-26T00:30:35.557991Z",
     "shell.execute_reply.started": "2022-09-26T00:30:35.553811Z"
    },
    "tags": []
   },
   "outputs": [],
   "source": [
    "import matplotlib.ticker as plticker"
   ]
  },
  {
   "cell_type": "code",
   "execution_count": null,
   "id": "1f781539-523c-43bb-b1dd-b22a0ce4d1d3",
   "metadata": {
    "execution": {
     "iopub.execute_input": "2022-09-26T00:31:17.356597Z",
     "iopub.status.busy": "2022-09-26T00:31:17.355975Z",
     "iopub.status.idle": "2022-09-26T00:31:29.891608Z",
     "shell.execute_reply": "2022-09-26T00:31:29.890886Z",
     "shell.execute_reply.started": "2022-09-26T00:31:17.356549Z"
    },
    "tags": []
   },
   "outputs": [],
   "source": [
    "for column in df:\n",
    "    \n",
    "    print(' ')\n",
    "    print('burst detection for:', column)\n",
    "    print(' ')\n",
    "    \n",
    "    #number of target events at each time point\n",
    "    df_list = df[column].to_numpy(dtype=float)\n",
    "    r = np.array(df_list, dtype=float)\n",
    "    \n",
    "    #total number of events at each time point\n",
    "    df_all_posts_list = df_all_posts['count'].tolist()\n",
    "    d = np.array(df_all_posts_list, dtype=float)\n",
    "        \n",
    "    #number of time points\n",
    "    n = len(r)\n",
    "    \n",
    "    #find the optimal state sequence (q)\n",
    "    q, d, r, p = bd.burst_detection(r,d,n,s=1.5,gamma=1,smooth_win=1)\n",
    "    \n",
    "    #enumerate bursts based on the optimal state sequence\n",
    "    bursts = bd.enumerate_bursts(q, 'burstLabel')\n",
    "    \n",
    "    #find weight of bursts\n",
    "    weighted_bursts = bd.burst_weights(bursts,r,d,p)\n",
    "    \n",
    "    print('observed probabilities: ')\n",
    "    print(str(r/d))\n",
    "\n",
    "    print('optimal state sequence: ')\n",
    "    print(str(q.T))\n",
    "\n",
    "    print('baseline probability: ' + str(p[0]))\n",
    "\n",
    "    print('bursty probability: ' + str(p[1]))\n",
    "\n",
    "    print('weighted bursts:')\n",
    "    print(weighted_bursts)\n",
    "\n",
    "    org_r = r\n",
    "\n",
    "    fig, ax1 = plt.subplots(figsize=(15, 5))\n",
    "    ax1.plot(df_all_posts.index, org_r/d, color='#00bbcc', linewidth=1)\n",
    "    plt.yticks(size=14);\n",
    "    plt.xticks(np.arange(min(df_all_posts.index), max(df_all_posts.index)+1, 3))\n",
    "    plt.ylabel('proportion of target events', size=14)\n",
    "    plt.xlabel('burst sequence', size=14)\n",
    "\n",
    "    ax2 = ax1.twiny() \n",
    "    ax2.set_xlim(ax1.get_xlim())\n",
    "    ax2.set_xticks(df_all_posts.index)\n",
    "\n",
    "    ax2.xaxis.set_ticks_position(\"bottom\")\n",
    "    ax2.xaxis.set_label_position(\"bottom\")\n",
    "\n",
    "    ax2.spines[\"bottom\"].set_position((\"axes\", -0.2))\n",
    "\n",
    "    ax2.set_frame_on(True)\n",
    "    ax2.patch.set_visible(False)\n",
    "\n",
    "    for sp in ax2.spines.values():\n",
    "        sp.set_visible(False)\n",
    "    ax2.spines[\"bottom\"].set_visible(True)\n",
    "\n",
    "    ax2.set_xlabel(r\"date\")\n",
    "\n",
    "    ax2.set_xticklabels(df_all_posts['timestamp'], rotation=45, ha='right')\n",
    "    loc = plticker.MultipleLocator(base=3)\n",
    "    ax2.xaxis.set_major_locator(loc)\n",
    "\n",
    "    flattened = []\n",
    "    for sublist in q: \n",
    "        for val in sublist: \n",
    "            flattened.append(val)\n",
    "        \n",
    "    burst_sequences = array(flattened)\n",
    "\n",
    "    plt.fill_between(df_all_posts.index, plt.ylim()[1], plt.ylim()[0], alpha=0.4, where=(burst_sequences==True), color='green')\n",
    "    \n",
    "    plt.show()\n",
    "    \n",
    "    print('___________________________________________')"
   ]
  },
  {
   "cell_type": "markdown",
   "id": "798ba649-3f19-42c4-8491-0921efc9ecfa",
   "metadata": {},
   "source": [
    "# Decades per Day"
   ]
  },
  {
   "cell_type": "code",
   "execution_count": 90,
   "id": "564fe1ab-9551-4fdc-89a0-3ccd56e727ea",
   "metadata": {
    "execution": {
     "iopub.execute_input": "2022-09-26T00:33:00.657063Z",
     "iopub.status.busy": "2022-09-26T00:33:00.656421Z",
     "iopub.status.idle": "2022-09-26T00:33:00.670076Z",
     "shell.execute_reply": "2022-09-26T00:33:00.669184Z",
     "shell.execute_reply.started": "2022-09-26T00:33:00.657013Z"
    },
    "tags": []
   },
   "outputs": [],
   "source": [
    "df_all_posts = pd.read_csv('all_posts_per_day.csv')"
   ]
  },
  {
   "cell_type": "code",
   "execution_count": 91,
   "id": "b64aef21-1baf-4ab1-8ab5-bada50401a63",
   "metadata": {
    "execution": {
     "iopub.execute_input": "2022-09-26T00:33:00.957133Z",
     "iopub.status.busy": "2022-09-26T00:33:00.956522Z",
     "iopub.status.idle": "2022-09-26T00:33:01.002362Z",
     "shell.execute_reply": "2022-09-26T00:33:01.001523Z",
     "shell.execute_reply.started": "2022-09-26T00:33:00.957083Z"
    },
    "tags": []
   },
   "outputs": [],
   "source": [
    "df = pd.read_csv('decades_count_per_day.csv')"
   ]
  },
  {
   "cell_type": "code",
   "execution_count": 92,
   "id": "6945da03-c5ba-49f1-9305-632f1799f0b9",
   "metadata": {
    "execution": {
     "iopub.execute_input": "2022-09-26T00:33:01.689118Z",
     "iopub.status.busy": "2022-09-26T00:33:01.688610Z",
     "iopub.status.idle": "2022-09-26T00:33:01.697420Z",
     "shell.execute_reply": "2022-09-26T00:33:01.696400Z",
     "shell.execute_reply.started": "2022-09-26T00:33:01.689070Z"
    },
    "tags": []
   },
   "outputs": [],
   "source": [
    "df = df.drop('timestamp', axis=1)"
   ]
  },
  {
   "cell_type": "code",
   "execution_count": 93,
   "id": "acf07f40-0da7-4f86-af88-4286e6d6c2be",
   "metadata": {
    "execution": {
     "iopub.execute_input": "2022-09-26T00:33:03.172518Z",
     "iopub.status.busy": "2022-09-26T00:33:03.172012Z",
     "iopub.status.idle": "2022-09-26T00:33:03.185833Z",
     "shell.execute_reply": "2022-09-26T00:33:03.184998Z",
     "shell.execute_reply.started": "2022-09-26T00:33:03.172469Z"
    },
    "tags": []
   },
   "outputs": [
    {
     "name": "stdout",
     "output_type": "stream",
     "text": [
      "Populating the interactive namespace from numpy and matplotlib\n"
     ]
    }
   ],
   "source": [
    "import matplotlib.pyplot as plt  \n",
    "import seaborn as sns\n",
    "from matplotlib import rcParams\n",
    "%pylab inline \n",
    "\n",
    "#set plot properties\n",
    "sns.set_style(\"white\")\n",
    "rcParams['font.size'] = 14"
   ]
  },
  {
   "cell_type": "code",
   "execution_count": 94,
   "id": "108c65b4-3848-4f71-8eb0-92d5df86496d",
   "metadata": {
    "execution": {
     "iopub.execute_input": "2022-09-26T00:33:07.801648Z",
     "iopub.status.busy": "2022-09-26T00:33:07.801058Z",
     "iopub.status.idle": "2022-09-26T00:33:07.814602Z",
     "shell.execute_reply": "2022-09-26T00:33:07.813578Z",
     "shell.execute_reply.started": "2022-09-26T00:33:07.801599Z"
    },
    "tags": []
   },
   "outputs": [],
   "source": [
    "df_all_posts['timestamp'] = pd.DatetimeIndex(df_all_posts['timestamp'])\n",
    "df_all_posts['timestamp'] = df_all_posts['timestamp'].dt.to_period('D')"
   ]
  },
  {
   "cell_type": "code",
   "execution_count": 95,
   "id": "30af405a-26ee-4adc-83e9-27eff2b87742",
   "metadata": {
    "execution": {
     "iopub.execute_input": "2022-09-26T00:33:08.048723Z",
     "iopub.status.busy": "2022-09-26T00:33:08.048157Z",
     "iopub.status.idle": "2022-09-26T00:33:08.058851Z",
     "shell.execute_reply": "2022-09-26T00:33:08.058206Z",
     "shell.execute_reply.started": "2022-09-26T00:33:08.048677Z"
    },
    "tags": []
   },
   "outputs": [
    {
     "data": {
      "text/plain": [
       "0       2013-11-28\n",
       "1       2013-11-29\n",
       "2       2013-11-30\n",
       "3       2013-12-01\n",
       "4       2013-12-02\n",
       "           ...    \n",
       "2974    2022-01-19\n",
       "2975    2022-01-20\n",
       "2976    2022-01-21\n",
       "2977    2022-01-22\n",
       "2978    2022-01-23\n",
       "Name: timestamp, Length: 2979, dtype: period[D]"
      ]
     },
     "execution_count": 95,
     "metadata": {},
     "output_type": "execute_result"
    }
   ],
   "source": [
    "df_all_posts['timestamp']"
   ]
  },
  {
   "cell_type": "code",
   "execution_count": 96,
   "id": "664a6b33-1ce5-43cf-94ce-4f78132acb60",
   "metadata": {
    "execution": {
     "iopub.execute_input": "2022-09-26T00:33:10.219078Z",
     "iopub.status.busy": "2022-09-26T00:33:10.218455Z",
     "iopub.status.idle": "2022-09-26T00:33:10.224574Z",
     "shell.execute_reply": "2022-09-26T00:33:10.223598Z",
     "shell.execute_reply.started": "2022-09-26T00:33:10.219030Z"
    },
    "tags": []
   },
   "outputs": [],
   "source": [
    "import matplotlib.ticker as plticker"
   ]
  },
  {
   "cell_type": "code",
   "execution_count": null,
   "id": "67d353d4-1b36-4240-94e8-1403a5288b53",
   "metadata": {
    "execution": {
     "iopub.execute_input": "2022-09-26T00:33:13.316855Z",
     "iopub.status.busy": "2022-09-26T00:33:13.316369Z",
     "iopub.status.idle": "2022-09-26T00:33:14.138486Z",
     "shell.execute_reply": "2022-09-26T00:33:14.136781Z",
     "shell.execute_reply.started": "2022-09-26T00:33:13.316807Z"
    },
    "tags": []
   },
   "outputs": [],
   "source": [
    "for column in df:\n",
    "    \n",
    "    print(' ')\n",
    "    print('burst detection for:', column)\n",
    "    print(' ')\n",
    "    \n",
    "    #number of target events at each time point\n",
    "    df_list = df[column].to_numpy(dtype=float)\n",
    "    r = np.array(df_list, dtype=float)\n",
    "    \n",
    "    #total number of events at each time point\n",
    "    df_all_posts_list = df_all_posts['count'].tolist()\n",
    "    d = np.array(df_all_posts_list, dtype=float)\n",
    "        \n",
    "    #number of time points\n",
    "    n = len(r)\n",
    "    \n",
    "    #find the optimal state sequence (q)\n",
    "    q, d, r, p = bd.burst_detection(r,d,n,s=1.5,gamma=1,smooth_win=1)\n",
    "    \n",
    "    #enumerate bursts based on the optimal state sequence\n",
    "    bursts = bd.enumerate_bursts(q, 'burstLabel')\n",
    "    \n",
    "    #find weight of bursts\n",
    "    weighted_bursts = bd.burst_weights(bursts,r,d,p)\n",
    "    \n",
    "    print('observed probabilities: ')\n",
    "    print(str(r/d))\n",
    "\n",
    "    print('optimal state sequence: ')\n",
    "    print(str(q.T))\n",
    "\n",
    "    print('baseline probability: ' + str(p[0]))\n",
    "\n",
    "    print('bursty probability: ' + str(p[1]))\n",
    "\n",
    "    print('weighted bursts:')\n",
    "    print(weighted_bursts)\n",
    "\n",
    "    org_r = r\n",
    "\n",
    "    fig, ax1 = plt.subplots(figsize=(15, 5))\n",
    "    ax1.plot(df_all_posts.index, org_r/d, color='#00bbcc', linewidth=1)\n",
    "    plt.yticks(size=14);\n",
    "    plt.xticks(np.arange(min(df_all_posts.index), max(df_all_posts.index)+1, 200))\n",
    "    plt.ylabel('proportion of target events', size=14)\n",
    "    plt.xlabel('burst sequence', size=14)\n",
    "\n",
    "    ax2 = ax1.twiny() \n",
    "    ax2.set_xlim(ax1.get_xlim())\n",
    "    ax2.set_xticks(df_all_posts.index)\n",
    "\n",
    "    ax2.xaxis.set_ticks_position(\"bottom\")\n",
    "    ax2.xaxis.set_label_position(\"bottom\")\n",
    "\n",
    "    ax2.spines[\"bottom\"].set_position((\"axes\", -0.2))\n",
    "\n",
    "    ax2.set_frame_on(True)\n",
    "    ax2.patch.set_visible(False)\n",
    "\n",
    "    for sp in ax2.spines.values():\n",
    "        sp.set_visible(False)\n",
    "    ax2.spines[\"bottom\"].set_visible(True)\n",
    "\n",
    "    ax2.set_xlabel(r\"date\")\n",
    "\n",
    "    ax2.set_xticklabels(df_all_posts['timestamp'], rotation=45, ha='right')\n",
    "    loc = plticker.MultipleLocator(base=70)\n",
    "    ax2.xaxis.set_major_locator(loc)\n",
    "\n",
    "    flattened = []\n",
    "    for sublist in q: \n",
    "        for val in sublist: \n",
    "            flattened.append(val)\n",
    "        \n",
    "    burst_sequences = array(flattened)\n",
    "\n",
    "    plt.fill_between(df_all_posts.index, plt.ylim()[1], plt.ylim()[0], alpha=0.4, where=(burst_sequences==True), color='green')\n",
    "    \n",
    "    plt.show()\n",
    "    \n",
    "    print('___________________________________________')"
   ]
  },
  {
   "cell_type": "markdown",
   "id": "b882fde6-ecb9-41ae-8b80-d137c8cf535c",
   "metadata": {},
   "source": [
    "# Decades per Week"
   ]
  },
  {
   "cell_type": "code",
   "execution_count": 101,
   "id": "fa9068f5-c3f1-4b1a-a00a-64b21a842c40",
   "metadata": {
    "execution": {
     "iopub.execute_input": "2022-09-26T00:35:41.757722Z",
     "iopub.status.busy": "2022-09-26T00:35:41.757218Z",
     "iopub.status.idle": "2022-09-26T00:35:41.768087Z",
     "shell.execute_reply": "2022-09-26T00:35:41.767045Z",
     "shell.execute_reply.started": "2022-09-26T00:35:41.757676Z"
    },
    "tags": []
   },
   "outputs": [],
   "source": [
    "df_all_posts = pd.read_csv('all_posts_per_week.csv')"
   ]
  },
  {
   "cell_type": "code",
   "execution_count": 102,
   "id": "58faa917-1e0f-420e-9929-e43e140ff8f6",
   "metadata": {
    "execution": {
     "iopub.execute_input": "2022-09-26T00:35:42.081331Z",
     "iopub.status.busy": "2022-09-26T00:35:42.080699Z",
     "iopub.status.idle": "2022-09-26T00:35:42.214584Z",
     "shell.execute_reply": "2022-09-26T00:35:42.213512Z",
     "shell.execute_reply.started": "2022-09-26T00:35:42.081281Z"
    },
    "tags": []
   },
   "outputs": [],
   "source": [
    "df = pd.read_csv('decades_count_per_week.csv')"
   ]
  },
  {
   "cell_type": "code",
   "execution_count": 103,
   "id": "054580a3-1c6a-45d5-8b9c-519c3b22eaaf",
   "metadata": {
    "execution": {
     "iopub.execute_input": "2022-09-26T00:35:43.169267Z",
     "iopub.status.busy": "2022-09-26T00:35:43.168620Z",
     "iopub.status.idle": "2022-09-26T00:35:43.176569Z",
     "shell.execute_reply": "2022-09-26T00:35:43.175612Z",
     "shell.execute_reply.started": "2022-09-26T00:35:43.169214Z"
    },
    "tags": []
   },
   "outputs": [],
   "source": [
    "df = df.drop('timestamp', axis=1)"
   ]
  },
  {
   "cell_type": "code",
   "execution_count": 104,
   "id": "46d91f55-b9b8-44ce-a6c8-8c83203fe6ac",
   "metadata": {
    "execution": {
     "iopub.execute_input": "2022-09-26T00:35:45.190220Z",
     "iopub.status.busy": "2022-09-26T00:35:45.189674Z",
     "iopub.status.idle": "2022-09-26T00:35:45.204099Z",
     "shell.execute_reply": "2022-09-26T00:35:45.203004Z",
     "shell.execute_reply.started": "2022-09-26T00:35:45.190169Z"
    },
    "tags": []
   },
   "outputs": [
    {
     "name": "stdout",
     "output_type": "stream",
     "text": [
      "Populating the interactive namespace from numpy and matplotlib\n"
     ]
    }
   ],
   "source": [
    "import matplotlib.pyplot as plt  \n",
    "import seaborn as sns\n",
    "from matplotlib import rcParams\n",
    "%pylab inline \n",
    "\n",
    "#set plot properties\n",
    "sns.set_style(\"white\")\n",
    "rcParams['font.size'] = 14"
   ]
  },
  {
   "cell_type": "code",
   "execution_count": 105,
   "id": "4a2fe7b2-42d4-4d97-839d-65f8ad5e2bc8",
   "metadata": {
    "execution": {
     "iopub.execute_input": "2022-09-26T00:35:45.621839Z",
     "iopub.status.busy": "2022-09-26T00:35:45.621236Z",
     "iopub.status.idle": "2022-09-26T00:35:45.631710Z",
     "shell.execute_reply": "2022-09-26T00:35:45.630809Z",
     "shell.execute_reply.started": "2022-09-26T00:35:45.621788Z"
    },
    "tags": []
   },
   "outputs": [],
   "source": [
    "df_all_posts['timestamp'] = pd.DatetimeIndex(df_all_posts['timestamp'])\n",
    "df_all_posts['timestamp'] = df_all_posts['timestamp'].dt.to_period('D')"
   ]
  },
  {
   "cell_type": "code",
   "execution_count": 106,
   "id": "e3af97f4-d51a-48da-9271-89d15aec8591",
   "metadata": {
    "execution": {
     "iopub.execute_input": "2022-09-26T00:35:46.627538Z",
     "iopub.status.busy": "2022-09-26T00:35:46.626940Z",
     "iopub.status.idle": "2022-09-26T00:35:46.638003Z",
     "shell.execute_reply": "2022-09-26T00:35:46.637292Z",
     "shell.execute_reply.started": "2022-09-26T00:35:46.627490Z"
    },
    "tags": []
   },
   "outputs": [
    {
     "data": {
      "text/plain": [
       "0      2013-12-02\n",
       "1      2013-12-09\n",
       "2      2013-12-16\n",
       "3      2013-12-23\n",
       "4      2013-12-30\n",
       "          ...    \n",
       "421    2021-12-27\n",
       "422    2022-01-03\n",
       "423    2022-01-10\n",
       "424    2022-01-17\n",
       "425    2022-01-24\n",
       "Name: timestamp, Length: 426, dtype: period[D]"
      ]
     },
     "execution_count": 106,
     "metadata": {},
     "output_type": "execute_result"
    }
   ],
   "source": [
    "df_all_posts['timestamp']"
   ]
  },
  {
   "cell_type": "code",
   "execution_count": 107,
   "id": "67dc0cda-45d4-47eb-8c1e-f907a79df532",
   "metadata": {
    "execution": {
     "iopub.execute_input": "2022-09-26T00:35:50.074940Z",
     "iopub.status.busy": "2022-09-26T00:35:50.074212Z",
     "iopub.status.idle": "2022-09-26T00:35:50.079957Z",
     "shell.execute_reply": "2022-09-26T00:35:50.079223Z",
     "shell.execute_reply.started": "2022-09-26T00:35:50.074859Z"
    },
    "tags": []
   },
   "outputs": [],
   "source": [
    "import matplotlib.ticker as plticker"
   ]
  },
  {
   "cell_type": "code",
   "execution_count": null,
   "id": "249b0c60-6b77-4213-85bd-fd0a1ab0c7a1",
   "metadata": {
    "execution": {
     "iopub.execute_input": "2022-09-26T00:37:13.874645Z",
     "iopub.status.busy": "2022-09-26T00:37:13.874036Z",
     "iopub.status.idle": "2022-09-26T00:37:42.158384Z",
     "shell.execute_reply": "2022-09-26T00:37:42.157762Z",
     "shell.execute_reply.started": "2022-09-26T00:37:13.874595Z"
    },
    "tags": []
   },
   "outputs": [],
   "source": [
    "for column in df:\n",
    "    \n",
    "    print(' ')\n",
    "    print('burst detection for:', column)\n",
    "    print(' ')\n",
    "    \n",
    "    #number of target events at each time point\n",
    "    df_list = df[column].to_numpy(dtype=float)\n",
    "    r = np.array(df_list, dtype=float)\n",
    "    \n",
    "    #total number of events at each time point\n",
    "    df_all_posts_list = df_all_posts['count'].tolist()\n",
    "    d = np.array(df_all_posts_list, dtype=float)\n",
    "        \n",
    "    #number of time points\n",
    "    n = len(r)\n",
    "    \n",
    "    #find the optimal state sequence (q)\n",
    "    q, d, r, p = bd.burst_detection(r,d,n,s=1.5,gamma=1,smooth_win=1)\n",
    "    \n",
    "    #enumerate bursts based on the optimal state sequence\n",
    "    bursts = bd.enumerate_bursts(q, 'burstLabel')\n",
    "    \n",
    "    #find weight of bursts\n",
    "    weighted_bursts = bd.burst_weights(bursts,r,d,p)\n",
    "    \n",
    "    print('observed probabilities: ')\n",
    "    print(str(r/d))\n",
    "\n",
    "    print('optimal state sequence: ')\n",
    "    print(str(q.T))\n",
    "\n",
    "    print('baseline probability: ' + str(p[0]))\n",
    "\n",
    "    print('bursty probability: ' + str(p[1]))\n",
    "\n",
    "    print('weighted bursts:')\n",
    "    print(weighted_bursts)\n",
    "\n",
    "    org_r = r\n",
    "\n",
    "    fig, ax1 = plt.subplots(figsize=(15, 5))\n",
    "    ax1.plot(df_all_posts.index, org_r/d, color='#00bbcc', linewidth=1)\n",
    "    plt.yticks(size=14);\n",
    "    plt.xticks(np.arange(min(df_all_posts.index), max(df_all_posts.index)+1, 20))\n",
    "    plt.ylabel('proportion of target events', size=14)\n",
    "    plt.xlabel('burst sequence', size=14)\n",
    "\n",
    "    ax2 = ax1.twiny() \n",
    "    ax2.set_xlim(ax1.get_xlim())\n",
    "    ax2.set_xticks(df_all_posts.index)\n",
    "\n",
    "    ax2.xaxis.set_ticks_position(\"bottom\")\n",
    "    ax2.xaxis.set_label_position(\"bottom\")\n",
    "\n",
    "    ax2.spines[\"bottom\"].set_position((\"axes\", -0.2))\n",
    "\n",
    "    ax2.set_frame_on(True)\n",
    "    ax2.patch.set_visible(False)\n",
    "\n",
    "    for sp in ax2.spines.values():\n",
    "        sp.set_visible(False)\n",
    "    ax2.spines[\"bottom\"].set_visible(True)\n",
    "\n",
    "    ax2.set_xlabel(r\"date\")\n",
    "\n",
    "    ax2.set_xticklabels(df_all_posts['timestamp'], rotation=45, ha='right')\n",
    "    loc = plticker.MultipleLocator(base=10)\n",
    "    ax2.xaxis.set_major_locator(loc)\n",
    "\n",
    "    flattened = []\n",
    "    for sublist in q: \n",
    "        for val in sublist: \n",
    "            flattened.append(val)\n",
    "        \n",
    "    burst_sequences = array(flattened)\n",
    "\n",
    "    plt.fill_between(df_all_posts.index, plt.ylim()[1], plt.ylim()[0], alpha=0.4, where=(burst_sequences==True), color='green')\n",
    "    \n",
    "    plt.show()\n",
    "    \n",
    "    print('___________________________________________')"
   ]
  },
  {
   "cell_type": "markdown",
   "id": "06211e93-e7f4-43a8-8aa6-3f66ac6918d4",
   "metadata": {},
   "source": [
    "# Years per Year"
   ]
  },
  {
   "cell_type": "code",
   "execution_count": 111,
   "id": "9118f66a-e4b9-48ef-8a50-3db6ae0f9f26",
   "metadata": {
    "execution": {
     "iopub.execute_input": "2022-09-26T00:39:33.580495Z",
     "iopub.status.busy": "2022-09-26T00:39:33.579875Z",
     "iopub.status.idle": "2022-09-26T00:39:33.590198Z",
     "shell.execute_reply": "2022-09-26T00:39:33.589508Z",
     "shell.execute_reply.started": "2022-09-26T00:39:33.580448Z"
    },
    "tags": []
   },
   "outputs": [],
   "source": [
    "df_all_posts = pd.read_csv('all_posts_per_year.csv')"
   ]
  },
  {
   "cell_type": "code",
   "execution_count": 112,
   "id": "0ff1d414-e3b1-4eec-b797-cb1b62b7f5dc",
   "metadata": {
    "execution": {
     "iopub.execute_input": "2022-09-26T00:39:33.960847Z",
     "iopub.status.busy": "2022-09-26T00:39:33.960266Z",
     "iopub.status.idle": "2022-09-26T00:39:34.108242Z",
     "shell.execute_reply": "2022-09-26T00:39:34.107541Z",
     "shell.execute_reply.started": "2022-09-26T00:39:33.960798Z"
    },
    "tags": []
   },
   "outputs": [],
   "source": [
    "df = pd.read_csv('years_count_per_year.csv')"
   ]
  },
  {
   "cell_type": "code",
   "execution_count": 113,
   "id": "b14d8cce-6416-4a06-a2d6-695ffdd7c66d",
   "metadata": {
    "execution": {
     "iopub.execute_input": "2022-09-26T00:39:35.395444Z",
     "iopub.status.busy": "2022-09-26T00:39:35.394800Z",
     "iopub.status.idle": "2022-09-26T00:39:35.403668Z",
     "shell.execute_reply": "2022-09-26T00:39:35.402625Z",
     "shell.execute_reply.started": "2022-09-26T00:39:35.395393Z"
    },
    "tags": []
   },
   "outputs": [],
   "source": [
    "df = df.drop('timestamp', axis=1)"
   ]
  },
  {
   "cell_type": "code",
   "execution_count": 114,
   "id": "09149665-dc85-479c-9f6b-a10e7fe913bf",
   "metadata": {
    "execution": {
     "iopub.execute_input": "2022-09-26T00:39:37.144129Z",
     "iopub.status.busy": "2022-09-26T00:39:37.143635Z",
     "iopub.status.idle": "2022-09-26T00:39:37.155764Z",
     "shell.execute_reply": "2022-09-26T00:39:37.154942Z",
     "shell.execute_reply.started": "2022-09-26T00:39:37.144082Z"
    },
    "tags": []
   },
   "outputs": [
    {
     "name": "stdout",
     "output_type": "stream",
     "text": [
      "Populating the interactive namespace from numpy and matplotlib\n"
     ]
    }
   ],
   "source": [
    "import matplotlib.pyplot as plt  \n",
    "import seaborn as sns\n",
    "from matplotlib import rcParams\n",
    "%pylab inline \n",
    "\n",
    "#set plot properties\n",
    "sns.set_style(\"white\")\n",
    "rcParams['font.size'] = 14"
   ]
  },
  {
   "cell_type": "code",
   "execution_count": 115,
   "id": "ecf6202e-a0e5-4dc6-8d62-482368ff60e9",
   "metadata": {
    "execution": {
     "iopub.execute_input": "2022-09-26T00:39:40.576243Z",
     "iopub.status.busy": "2022-09-26T00:39:40.575735Z",
     "iopub.status.idle": "2022-09-26T00:39:40.585423Z",
     "shell.execute_reply": "2022-09-26T00:39:40.584584Z",
     "shell.execute_reply.started": "2022-09-26T00:39:40.576197Z"
    },
    "tags": []
   },
   "outputs": [],
   "source": [
    "df_all_posts['timestamp'] = pd.DatetimeIndex(df_all_posts['timestamp'])\n",
    "df_all_posts['timestamp'] = df_all_posts['timestamp'].dt.to_period('Y')"
   ]
  },
  {
   "cell_type": "code",
   "execution_count": 116,
   "id": "e7f4afaf-133c-49c5-9b9a-1143cc98fc62",
   "metadata": {
    "execution": {
     "iopub.execute_input": "2022-09-26T00:39:40.984694Z",
     "iopub.status.busy": "2022-09-26T00:39:40.984117Z",
     "iopub.status.idle": "2022-09-26T00:39:40.994874Z",
     "shell.execute_reply": "2022-09-26T00:39:40.993867Z",
     "shell.execute_reply.started": "2022-09-26T00:39:40.984646Z"
    },
    "tags": []
   },
   "outputs": [
    {
     "data": {
      "text/plain": [
       "0    2013\n",
       "1    2014\n",
       "2    2015\n",
       "3    2016\n",
       "4    2017\n",
       "5    2018\n",
       "6    2019\n",
       "7    2020\n",
       "8    2021\n",
       "9    2022\n",
       "Name: timestamp, dtype: period[A-DEC]"
      ]
     },
     "execution_count": 116,
     "metadata": {},
     "output_type": "execute_result"
    }
   ],
   "source": [
    "df_all_posts['timestamp']"
   ]
  },
  {
   "cell_type": "code",
   "execution_count": 117,
   "id": "8717ff39-538a-483f-9481-7fe3e1651052",
   "metadata": {
    "execution": {
     "iopub.execute_input": "2022-09-26T00:39:43.809436Z",
     "iopub.status.busy": "2022-09-26T00:39:43.808807Z",
     "iopub.status.idle": "2022-09-26T00:39:43.814661Z",
     "shell.execute_reply": "2022-09-26T00:39:43.813668Z",
     "shell.execute_reply.started": "2022-09-26T00:39:43.809389Z"
    },
    "tags": []
   },
   "outputs": [],
   "source": [
    "import matplotlib.ticker as plticker"
   ]
  },
  {
   "cell_type": "code",
   "execution_count": null,
   "id": "5718dd07-319c-430c-99e1-9df74e4ae097",
   "metadata": {
    "execution": {
     "iopub.execute_input": "2022-09-26T00:39:55.693024Z",
     "iopub.status.busy": "2022-09-26T00:39:55.692378Z",
     "iopub.status.idle": "2022-09-26T00:40:49.312729Z",
     "shell.execute_reply": "2022-09-26T00:40:49.312180Z",
     "shell.execute_reply.started": "2022-09-26T00:39:55.692973Z"
    },
    "tags": []
   },
   "outputs": [],
   "source": [
    "for column in df:\n",
    "    \n",
    "    print(' ')\n",
    "    print('burst detection for:', column)\n",
    "    print(' ')\n",
    "    \n",
    "    #number of target events at each time point\n",
    "    df_list = df[column].to_numpy(dtype=float)\n",
    "    r = np.array(df_list, dtype=float)\n",
    "    \n",
    "    #total number of events at each time point\n",
    "    df_all_posts_list = df_all_posts['count'].tolist()\n",
    "    d = np.array(df_all_posts_list, dtype=float)\n",
    "        \n",
    "    #number of time points\n",
    "    n = len(r)\n",
    "    \n",
    "    #find the optimal state sequence (q)\n",
    "    q, d, r, p = bd.burst_detection(r,d,n,s=1.5,gamma=1,smooth_win=1)\n",
    "    \n",
    "    #enumerate bursts based on the optimal state sequence\n",
    "    bursts = bd.enumerate_bursts(q, 'burstLabel')\n",
    "    \n",
    "    #find weight of bursts\n",
    "    weighted_bursts = bd.burst_weights(bursts,r,d,p)\n",
    "    \n",
    "    print('observed probabilities: ')\n",
    "    print(str(r/d))\n",
    "\n",
    "    print('optimal state sequence: ')\n",
    "    print(str(q.T))\n",
    "\n",
    "    print('baseline probability: ' + str(p[0]))\n",
    "\n",
    "    print('bursty probability: ' + str(p[1]))\n",
    "\n",
    "    print('weighted bursts:')\n",
    "    print(weighted_bursts)\n",
    "\n",
    "    org_r = r\n",
    "\n",
    "    fig, ax1 = plt.subplots(figsize=(15, 5))\n",
    "    ax1.plot(df_all_posts.index, org_r/d, color='#00bbcc', linewidth=1)\n",
    "    plt.yticks(size=14);\n",
    "    plt.xticks(np.arange(min(df_all_posts.index), max(df_all_posts.index)+1, 1))\n",
    "    plt.ylabel('proportion of target events', size=14)\n",
    "    plt.xlabel('burst sequence', size=14)\n",
    "\n",
    "    ax2 = ax1.twiny() \n",
    "    ax2.set_xlim(ax1.get_xlim())\n",
    "    ax2.set_xticks(df_all_posts.index)\n",
    "\n",
    "    ax2.xaxis.set_ticks_position(\"bottom\")\n",
    "    ax2.xaxis.set_label_position(\"bottom\")\n",
    "\n",
    "    ax2.spines[\"bottom\"].set_position((\"axes\", -0.2))\n",
    "\n",
    "    ax2.set_frame_on(True)\n",
    "    ax2.patch.set_visible(False)\n",
    "\n",
    "    for sp in ax2.spines.values():\n",
    "        sp.set_visible(False)\n",
    "    ax2.spines[\"bottom\"].set_visible(True)\n",
    "\n",
    "    ax2.set_xlabel(r\"date\")\n",
    "\n",
    "    ax2.set_xticklabels(df_all_posts['timestamp'], rotation=45, ha='right')\n",
    "    loc = plticker.MultipleLocator(base=1)\n",
    "    ax2.xaxis.set_major_locator(loc)\n",
    "\n",
    "    flattened = []\n",
    "    for sublist in q: \n",
    "        for val in sublist: \n",
    "            flattened.append(val)\n",
    "        \n",
    "    burst_sequences = array(flattened)\n",
    "\n",
    "    plt.fill_between(df_all_posts.index, plt.ylim()[1], plt.ylim()[0], alpha=0.4, where=(burst_sequences==True), color='green')\n",
    "    \n",
    "    plt.show()\n",
    "    \n",
    "    print('___________________________________________')"
   ]
  },
  {
   "cell_type": "markdown",
   "id": "df61e1ec-7074-45fe-b8f3-86e2f5c997d2",
   "metadata": {},
   "source": [
    "# Years per Month"
   ]
  },
  {
   "cell_type": "code",
   "execution_count": 119,
   "id": "acd54c52-a1df-4509-9fe6-890e49878d80",
   "metadata": {
    "execution": {
     "iopub.execute_input": "2022-09-26T00:41:46.643615Z",
     "iopub.status.busy": "2022-09-26T00:41:46.642994Z",
     "iopub.status.idle": "2022-09-26T00:41:46.654151Z",
     "shell.execute_reply": "2022-09-26T00:41:46.652957Z",
     "shell.execute_reply.started": "2022-09-26T00:41:46.643568Z"
    },
    "tags": []
   },
   "outputs": [],
   "source": [
    "df_all_posts = pd.read_csv('all_posts_per_month.csv')"
   ]
  },
  {
   "cell_type": "code",
   "execution_count": 120,
   "id": "c9291561-a617-4f2a-bb63-29a255e5cd4e",
   "metadata": {
    "execution": {
     "iopub.execute_input": "2022-09-26T00:41:46.987386Z",
     "iopub.status.busy": "2022-09-26T00:41:46.986732Z",
     "iopub.status.idle": "2022-09-26T00:41:47.049030Z",
     "shell.execute_reply": "2022-09-26T00:41:47.048160Z",
     "shell.execute_reply.started": "2022-09-26T00:41:46.987334Z"
    },
    "tags": []
   },
   "outputs": [],
   "source": [
    "df = pd.read_csv('years_count_per_month.csv')"
   ]
  },
  {
   "cell_type": "code",
   "execution_count": 121,
   "id": "280addc3-eccb-40bf-b5ef-070ecdbe6fca",
   "metadata": {
    "execution": {
     "iopub.execute_input": "2022-09-26T00:41:47.326960Z",
     "iopub.status.busy": "2022-09-26T00:41:47.326353Z",
     "iopub.status.idle": "2022-09-26T00:41:47.334987Z",
     "shell.execute_reply": "2022-09-26T00:41:47.333995Z",
     "shell.execute_reply.started": "2022-09-26T00:41:47.326911Z"
    },
    "tags": []
   },
   "outputs": [],
   "source": [
    "df = df.drop('timestamp', axis=1)"
   ]
  },
  {
   "cell_type": "code",
   "execution_count": 122,
   "id": "a499eb61-c0a5-4d25-9910-35d2e12b5e4f",
   "metadata": {
    "execution": {
     "iopub.execute_input": "2022-09-26T00:41:49.107509Z",
     "iopub.status.busy": "2022-09-26T00:41:49.106859Z",
     "iopub.status.idle": "2022-09-26T00:41:49.119638Z",
     "shell.execute_reply": "2022-09-26T00:41:49.118886Z",
     "shell.execute_reply.started": "2022-09-26T00:41:49.107460Z"
    },
    "tags": []
   },
   "outputs": [
    {
     "name": "stdout",
     "output_type": "stream",
     "text": [
      "Populating the interactive namespace from numpy and matplotlib\n"
     ]
    }
   ],
   "source": [
    "import matplotlib.pyplot as plt  \n",
    "import seaborn as sns\n",
    "from matplotlib import rcParams\n",
    "%pylab inline \n",
    "\n",
    "#set plot properties\n",
    "sns.set_style(\"white\")\n",
    "rcParams['font.size'] = 14"
   ]
  },
  {
   "cell_type": "code",
   "execution_count": 123,
   "id": "43f3cd11-ef41-483d-9871-0ffd7a94daa9",
   "metadata": {
    "execution": {
     "iopub.execute_input": "2022-09-26T00:41:51.720404Z",
     "iopub.status.busy": "2022-09-26T00:41:51.719796Z",
     "iopub.status.idle": "2022-09-26T00:41:51.729967Z",
     "shell.execute_reply": "2022-09-26T00:41:51.729042Z",
     "shell.execute_reply.started": "2022-09-26T00:41:51.720356Z"
    },
    "tags": []
   },
   "outputs": [],
   "source": [
    "df_all_posts['timestamp'] = pd.DatetimeIndex(df_all_posts['timestamp'])\n",
    "df_all_posts['timestamp'] = df_all_posts['timestamp'].dt.to_period('M')"
   ]
  },
  {
   "cell_type": "code",
   "execution_count": 124,
   "id": "12aaa884-a3ec-4278-beb0-2477ef924d57",
   "metadata": {
    "execution": {
     "iopub.execute_input": "2022-09-26T00:41:52.071903Z",
     "iopub.status.busy": "2022-09-26T00:41:52.071305Z",
     "iopub.status.idle": "2022-09-26T00:41:52.082682Z",
     "shell.execute_reply": "2022-09-26T00:41:52.081702Z",
     "shell.execute_reply.started": "2022-09-26T00:41:52.071837Z"
    },
    "tags": []
   },
   "outputs": [
    {
     "data": {
      "text/plain": [
       "0     2013-11\n",
       "1     2013-12\n",
       "2     2014-01\n",
       "3     2014-02\n",
       "4     2014-03\n",
       "       ...   \n",
       "94    2021-09\n",
       "95    2021-10\n",
       "96    2021-11\n",
       "97    2021-12\n",
       "98    2022-01\n",
       "Name: timestamp, Length: 99, dtype: period[M]"
      ]
     },
     "execution_count": 124,
     "metadata": {},
     "output_type": "execute_result"
    }
   ],
   "source": [
    "df_all_posts['timestamp']"
   ]
  },
  {
   "cell_type": "code",
   "execution_count": 125,
   "id": "d29990e7-ab98-4551-bf03-a8a32cdf1161",
   "metadata": {
    "execution": {
     "iopub.execute_input": "2022-09-26T00:41:54.340449Z",
     "iopub.status.busy": "2022-09-26T00:41:54.339825Z",
     "iopub.status.idle": "2022-09-26T00:41:54.345900Z",
     "shell.execute_reply": "2022-09-26T00:41:54.344797Z",
     "shell.execute_reply.started": "2022-09-26T00:41:54.340402Z"
    },
    "tags": []
   },
   "outputs": [],
   "source": [
    "import matplotlib.ticker as plticker"
   ]
  },
  {
   "cell_type": "code",
   "execution_count": null,
   "id": "6320cbcd-e748-43e3-8501-545996dfc157",
   "metadata": {
    "execution": {
     "iopub.execute_input": "2022-09-26T00:42:48.793095Z",
     "iopub.status.busy": "2022-09-26T00:42:48.792596Z",
     "iopub.status.idle": "2022-09-26T00:42:48.854869Z",
     "shell.execute_reply": "2022-09-26T00:42:48.853777Z",
     "shell.execute_reply.started": "2022-09-26T00:42:48.793050Z"
    },
    "tags": []
   },
   "outputs": [],
   "source": [
    "for column in df:\n",
    "    \n",
    "    print(' ')\n",
    "    print('burst detection for:', column)\n",
    "    print(' ')\n",
    "    \n",
    "    #number of target events at each time point\n",
    "    df_list = df[column].to_numpy(dtype=float)\n",
    "    r = np.array(df_list, dtype=float)\n",
    "    \n",
    "    #total number of events at each time point\n",
    "    df_all_posts_list = df_all_posts['count'].tolist()\n",
    "    d = np.array(df_all_posts_list, dtype=float)\n",
    "        \n",
    "    #number of time points\n",
    "    n = len(r)\n",
    "    \n",
    "    #find the optimal state sequence (q)\n",
    "    q, d, r, p = bd.burst_detection(r,d,n,s=1.5,gamma=1,smooth_win=1)\n",
    "    \n",
    "    #enumerate bursts based on the optimal state sequence\n",
    "    bursts = bd.enumerate_bursts(q, 'burstLabel')\n",
    "    \n",
    "    #find weight of bursts\n",
    "    weighted_bursts = bd.burst_weights(bursts,r,d,p)\n",
    "    \n",
    "    print('observed probabilities: ')\n",
    "    print(str(r/d))\n",
    "\n",
    "    print('optimal state sequence: ')\n",
    "    print(str(q.T))\n",
    "\n",
    "    print('baseline probability: ' + str(p[0]))\n",
    "\n",
    "    print('bursty probability: ' + str(p[1]))\n",
    "\n",
    "    print('weighted bursts:')\n",
    "    print(weighted_bursts)\n",
    "\n",
    "    org_r = r\n",
    "\n",
    "    fig, ax1 = plt.subplots(figsize=(15, 5))\n",
    "    ax1.plot(df_all_posts.index, org_r/d, color='#00bbcc', linewidth=1)\n",
    "    plt.yticks(size=14);\n",
    "    plt.xticks(np.arange(min(df_all_posts.index), max(df_all_posts.index)+1, 3))\n",
    "    plt.ylabel('proportion of target events', size=14)\n",
    "    plt.xlabel('burst sequence', size=14)\n",
    "\n",
    "    ax2 = ax1.twiny() \n",
    "    ax2.set_xlim(ax1.get_xlim())\n",
    "    ax2.set_xticks(df_all_posts.index)\n",
    "\n",
    "    ax2.xaxis.set_ticks_position(\"bottom\")\n",
    "    ax2.xaxis.set_label_position(\"bottom\")\n",
    "\n",
    "    ax2.spines[\"bottom\"].set_position((\"axes\", -0.2))\n",
    "\n",
    "    ax2.set_frame_on(True)\n",
    "    ax2.patch.set_visible(False)\n",
    "\n",
    "    for sp in ax2.spines.values():\n",
    "        sp.set_visible(False)\n",
    "    ax2.spines[\"bottom\"].set_visible(True)\n",
    "\n",
    "    ax2.set_xlabel(r\"date\")\n",
    "\n",
    "    ax2.set_xticklabels(df_all_posts['timestamp'], rotation=45, ha='right')\n",
    "    loc = plticker.MultipleLocator(base=3)\n",
    "    ax2.xaxis.set_major_locator(loc)\n",
    "\n",
    "    flattened = []\n",
    "    for sublist in q: \n",
    "        for val in sublist: \n",
    "            flattened.append(val)\n",
    "        \n",
    "    burst_sequences = array(flattened)\n",
    "\n",
    "    plt.fill_between(df_all_posts.index, plt.ylim()[1], plt.ylim()[0], alpha=0.4, where=(burst_sequences==True), color='green')\n",
    "    \n",
    "    plt.show()\n",
    "    \n",
    "    print('___________________________________________')"
   ]
  },
  {
   "cell_type": "markdown",
   "id": "be80f540-0515-4737-be49-62cce3a15464",
   "metadata": {},
   "source": [
    "# Years per Day"
   ]
  },
  {
   "cell_type": "code",
   "execution_count": 127,
   "id": "e66e5705-294e-4f0e-9a11-5852d0a6db23",
   "metadata": {
    "execution": {
     "iopub.execute_input": "2022-09-26T00:43:56.682243Z",
     "iopub.status.busy": "2022-09-26T00:43:56.681598Z",
     "iopub.status.idle": "2022-09-26T00:43:56.694232Z",
     "shell.execute_reply": "2022-09-26T00:43:56.693554Z",
     "shell.execute_reply.started": "2022-09-26T00:43:56.682194Z"
    },
    "tags": []
   },
   "outputs": [],
   "source": [
    "df_all_posts = pd.read_csv('all_posts_per_day.csv')"
   ]
  },
  {
   "cell_type": "code",
   "execution_count": 128,
   "id": "109577a9-8090-4df7-bcd1-9b739acd42f5",
   "metadata": {
    "execution": {
     "iopub.execute_input": "2022-09-26T00:43:57.174809Z",
     "iopub.status.busy": "2022-09-26T00:43:57.174211Z",
     "iopub.status.idle": "2022-09-26T00:43:57.416858Z",
     "shell.execute_reply": "2022-09-26T00:43:57.416168Z",
     "shell.execute_reply.started": "2022-09-26T00:43:57.174761Z"
    },
    "tags": []
   },
   "outputs": [],
   "source": [
    "df = pd.read_csv('years_count_per_day.csv')"
   ]
  },
  {
   "cell_type": "code",
   "execution_count": 129,
   "id": "83ea248f-984f-4740-85fd-8b98ec473072",
   "metadata": {
    "execution": {
     "iopub.execute_input": "2022-09-26T00:43:58.583185Z",
     "iopub.status.busy": "2022-09-26T00:43:58.582679Z",
     "iopub.status.idle": "2022-09-26T00:43:58.592798Z",
     "shell.execute_reply": "2022-09-26T00:43:58.591915Z",
     "shell.execute_reply.started": "2022-09-26T00:43:58.583139Z"
    },
    "tags": []
   },
   "outputs": [],
   "source": [
    "df = df.drop('timestamp', axis=1)"
   ]
  },
  {
   "cell_type": "code",
   "execution_count": 130,
   "id": "511c744e-72d3-4deb-872a-6ef43d257e63",
   "metadata": {
    "execution": {
     "iopub.execute_input": "2022-09-26T00:43:59.096846Z",
     "iopub.status.busy": "2022-09-26T00:43:59.096240Z",
     "iopub.status.idle": "2022-09-26T00:43:59.109554Z",
     "shell.execute_reply": "2022-09-26T00:43:59.108254Z",
     "shell.execute_reply.started": "2022-09-26T00:43:59.096799Z"
    },
    "tags": []
   },
   "outputs": [
    {
     "name": "stdout",
     "output_type": "stream",
     "text": [
      "Populating the interactive namespace from numpy and matplotlib\n"
     ]
    }
   ],
   "source": [
    "import matplotlib.pyplot as plt  \n",
    "import seaborn as sns\n",
    "from matplotlib import rcParams\n",
    "%pylab inline \n",
    "\n",
    "#set plot properties\n",
    "sns.set_style(\"white\")\n",
    "rcParams['font.size'] = 14"
   ]
  },
  {
   "cell_type": "code",
   "execution_count": 131,
   "id": "c5d44eb5-ead8-428c-90b1-95506d5f9c8a",
   "metadata": {
    "execution": {
     "iopub.execute_input": "2022-09-26T00:44:01.489380Z",
     "iopub.status.busy": "2022-09-26T00:44:01.488369Z",
     "iopub.status.idle": "2022-09-26T00:44:01.501020Z",
     "shell.execute_reply": "2022-09-26T00:44:01.499950Z",
     "shell.execute_reply.started": "2022-09-26T00:44:01.489331Z"
    },
    "tags": []
   },
   "outputs": [],
   "source": [
    "df_all_posts['timestamp'] = pd.DatetimeIndex(df_all_posts['timestamp'])\n",
    "df_all_posts['timestamp'] = df_all_posts['timestamp'].dt.to_period('D')"
   ]
  },
  {
   "cell_type": "code",
   "execution_count": 132,
   "id": "97669dac-c329-4d60-a937-14a1b66135c1",
   "metadata": {
    "execution": {
     "iopub.execute_input": "2022-09-26T00:44:02.507041Z",
     "iopub.status.busy": "2022-09-26T00:44:02.506422Z",
     "iopub.status.idle": "2022-09-26T00:44:02.517368Z",
     "shell.execute_reply": "2022-09-26T00:44:02.516581Z",
     "shell.execute_reply.started": "2022-09-26T00:44:02.506992Z"
    },
    "tags": []
   },
   "outputs": [
    {
     "data": {
      "text/plain": [
       "0       2013-11-28\n",
       "1       2013-11-29\n",
       "2       2013-11-30\n",
       "3       2013-12-01\n",
       "4       2013-12-02\n",
       "           ...    \n",
       "2974    2022-01-19\n",
       "2975    2022-01-20\n",
       "2976    2022-01-21\n",
       "2977    2022-01-22\n",
       "2978    2022-01-23\n",
       "Name: timestamp, Length: 2979, dtype: period[D]"
      ]
     },
     "execution_count": 132,
     "metadata": {},
     "output_type": "execute_result"
    }
   ],
   "source": [
    "df_all_posts['timestamp']"
   ]
  },
  {
   "cell_type": "code",
   "execution_count": 133,
   "id": "ad18be52-7bfb-49a4-b5ff-2c4fb44f2154",
   "metadata": {
    "execution": {
     "iopub.execute_input": "2022-09-26T00:44:04.871497Z",
     "iopub.status.busy": "2022-09-26T00:44:04.870544Z",
     "iopub.status.idle": "2022-09-26T00:44:04.878104Z",
     "shell.execute_reply": "2022-09-26T00:44:04.877350Z",
     "shell.execute_reply.started": "2022-09-26T00:44:04.871422Z"
    },
    "tags": []
   },
   "outputs": [],
   "source": [
    "import matplotlib.ticker as plticker"
   ]
  },
  {
   "cell_type": "code",
   "execution_count": null,
   "id": "893b80d8-0446-42a7-9153-3f215f357c91",
   "metadata": {
    "execution": {
     "iopub.execute_input": "2022-09-26T00:44:36.298017Z",
     "iopub.status.busy": "2022-09-26T00:44:36.297360Z",
     "iopub.status.idle": "2022-09-26T01:12:17.589215Z",
     "shell.execute_reply": "2022-09-26T01:12:17.588568Z",
     "shell.execute_reply.started": "2022-09-26T00:44:36.297967Z"
    },
    "tags": []
   },
   "outputs": [],
   "source": [
    "for column in df:\n",
    "    \n",
    "    print(' ')\n",
    "    print('burst detection for:', column)\n",
    "    print(' ')\n",
    "    \n",
    "    #number of target events at each time point\n",
    "    df_list = df[column].to_numpy(dtype=float)\n",
    "    r = np.array(df_list, dtype=float)\n",
    "    \n",
    "    #total number of events at each time point\n",
    "    df_all_posts_list = df_all_posts['count'].tolist()\n",
    "    d = np.array(df_all_posts_list, dtype=float)\n",
    "        \n",
    "    #number of time points\n",
    "    n = len(r)\n",
    "    \n",
    "    #find the optimal state sequence (q)\n",
    "    q, d, r, p = bd.burst_detection(r,d,n,s=1.5,gamma=1,smooth_win=1)\n",
    "    \n",
    "    #enumerate bursts based on the optimal state sequence\n",
    "    bursts = bd.enumerate_bursts(q, 'burstLabel')\n",
    "    \n",
    "    #find weight of bursts\n",
    "    weighted_bursts = bd.burst_weights(bursts,r,d,p)\n",
    "    \n",
    "    print('observed probabilities: ')\n",
    "    print(str(r/d))\n",
    "\n",
    "    print('optimal state sequence: ')\n",
    "    print(str(q.T))\n",
    "\n",
    "    print('baseline probability: ' + str(p[0]))\n",
    "\n",
    "    print('bursty probability: ' + str(p[1]))\n",
    "\n",
    "    print('weighted bursts:')\n",
    "    print(weighted_bursts)\n",
    "\n",
    "    org_r = r\n",
    "\n",
    "    fig, ax1 = plt.subplots(figsize=(15, 5))\n",
    "    ax1.plot(df_all_posts.index, org_r/d, color='#00bbcc', linewidth=1)\n",
    "    plt.yticks(size=14);\n",
    "    plt.xticks(np.arange(min(df_all_posts.index), max(df_all_posts.index)+1, 200))\n",
    "    plt.ylabel('proportion of target events', size=14)\n",
    "    plt.xlabel('burst sequence', size=14)\n",
    "\n",
    "    ax2 = ax1.twiny() \n",
    "    ax2.set_xlim(ax1.get_xlim())\n",
    "    ax2.set_xticks(df_all_posts.index)\n",
    "\n",
    "    ax2.xaxis.set_ticks_position(\"bottom\")\n",
    "    ax2.xaxis.set_label_position(\"bottom\")\n",
    "\n",
    "    ax2.spines[\"bottom\"].set_position((\"axes\", -0.2))\n",
    "\n",
    "    ax2.set_frame_on(True)\n",
    "    ax2.patch.set_visible(False)\n",
    "\n",
    "    for sp in ax2.spines.values():\n",
    "        sp.set_visible(False)\n",
    "    ax2.spines[\"bottom\"].set_visible(True)\n",
    "\n",
    "    ax2.set_xlabel(r\"date\")\n",
    "\n",
    "    ax2.set_xticklabels(df_all_posts['timestamp'], rotation=45, ha='right')\n",
    "    loc = plticker.MultipleLocator(base=70)\n",
    "    ax2.xaxis.set_major_locator(loc)\n",
    "\n",
    "    flattened = []\n",
    "    for sublist in q: \n",
    "        for val in sublist: \n",
    "            flattened.append(val)\n",
    "        \n",
    "    burst_sequences = array(flattened)\n",
    "\n",
    "    plt.fill_between(df_all_posts.index, plt.ylim()[1], plt.ylim()[0], alpha=0.4, where=(burst_sequences==True), color='green')\n",
    "    \n",
    "    plt.show()\n",
    "    \n",
    "    print('___________________________________________')"
   ]
  },
  {
   "cell_type": "markdown",
   "id": "1d343890-4df5-45a5-b557-9caf3c125c50",
   "metadata": {},
   "source": [
    "# Years per Week"
   ]
  },
  {
   "cell_type": "code",
   "execution_count": 135,
   "id": "9f2913cc-e892-4147-b729-c985fd663179",
   "metadata": {
    "execution": {
     "iopub.execute_input": "2022-09-26T01:13:13.918513Z",
     "iopub.status.busy": "2022-09-26T01:13:13.917912Z",
     "iopub.status.idle": "2022-09-26T01:13:13.928570Z",
     "shell.execute_reply": "2022-09-26T01:13:13.927580Z",
     "shell.execute_reply.started": "2022-09-26T01:13:13.918467Z"
    },
    "tags": []
   },
   "outputs": [],
   "source": [
    "df_all_posts = pd.read_csv('all_posts_per_week.csv')"
   ]
  },
  {
   "cell_type": "code",
   "execution_count": 136,
   "id": "d73ad407-7df6-4867-8df2-cc548806f3c1",
   "metadata": {
    "execution": {
     "iopub.execute_input": "2022-09-26T01:13:14.370093Z",
     "iopub.status.busy": "2022-09-26T01:13:14.369472Z",
     "iopub.status.idle": "2022-09-26T01:13:14.423813Z",
     "shell.execute_reply": "2022-09-26T01:13:14.423216Z",
     "shell.execute_reply.started": "2022-09-26T01:13:14.370045Z"
    },
    "tags": []
   },
   "outputs": [],
   "source": [
    "df = pd.read_csv('years_count_per_week.csv')"
   ]
  },
  {
   "cell_type": "code",
   "execution_count": 137,
   "id": "672c5f9c-a2de-4a0f-a699-2de3427d5522",
   "metadata": {
    "execution": {
     "iopub.execute_input": "2022-09-26T01:13:15.223706Z",
     "iopub.status.busy": "2022-09-26T01:13:15.223105Z",
     "iopub.status.idle": "2022-09-26T01:13:15.231390Z",
     "shell.execute_reply": "2022-09-26T01:13:15.230608Z",
     "shell.execute_reply.started": "2022-09-26T01:13:15.223659Z"
    },
    "tags": []
   },
   "outputs": [],
   "source": [
    "df = df.drop('timestamp', axis=1)"
   ]
  },
  {
   "cell_type": "code",
   "execution_count": 138,
   "id": "4f9e5b51-ee5e-405d-ac3e-46401fde42dd",
   "metadata": {
    "execution": {
     "iopub.execute_input": "2022-09-26T01:13:16.540730Z",
     "iopub.status.busy": "2022-09-26T01:13:16.540123Z",
     "iopub.status.idle": "2022-09-26T01:13:16.553406Z",
     "shell.execute_reply": "2022-09-26T01:13:16.552770Z",
     "shell.execute_reply.started": "2022-09-26T01:13:16.540682Z"
    },
    "tags": []
   },
   "outputs": [
    {
     "name": "stdout",
     "output_type": "stream",
     "text": [
      "Populating the interactive namespace from numpy and matplotlib\n"
     ]
    }
   ],
   "source": [
    "import matplotlib.pyplot as plt  \n",
    "import seaborn as sns\n",
    "from matplotlib import rcParams\n",
    "%pylab inline \n",
    "\n",
    "#set plot properties\n",
    "sns.set_style(\"white\")\n",
    "rcParams['font.size'] = 14"
   ]
  },
  {
   "cell_type": "code",
   "execution_count": 139,
   "id": "7e29f358-12f8-4b53-b3fd-04ebe9362b70",
   "metadata": {
    "execution": {
     "iopub.execute_input": "2022-09-26T01:13:17.009542Z",
     "iopub.status.busy": "2022-09-26T01:13:17.008930Z",
     "iopub.status.idle": "2022-09-26T01:13:17.019835Z",
     "shell.execute_reply": "2022-09-26T01:13:17.018915Z",
     "shell.execute_reply.started": "2022-09-26T01:13:17.009494Z"
    },
    "tags": []
   },
   "outputs": [],
   "source": [
    "df_all_posts['timestamp'] = pd.DatetimeIndex(df_all_posts['timestamp'])\n",
    "df_all_posts['timestamp'] = df_all_posts['timestamp'].dt.to_period('D')"
   ]
  },
  {
   "cell_type": "code",
   "execution_count": 140,
   "id": "91ac963c-292d-4972-a1a8-ad01f355ccc4",
   "metadata": {
    "execution": {
     "iopub.execute_input": "2022-09-26T01:13:17.671135Z",
     "iopub.status.busy": "2022-09-26T01:13:17.670519Z",
     "iopub.status.idle": "2022-09-26T01:13:17.681408Z",
     "shell.execute_reply": "2022-09-26T01:13:17.680747Z",
     "shell.execute_reply.started": "2022-09-26T01:13:17.671085Z"
    },
    "tags": []
   },
   "outputs": [
    {
     "data": {
      "text/plain": [
       "0      2013-12-02\n",
       "1      2013-12-09\n",
       "2      2013-12-16\n",
       "3      2013-12-23\n",
       "4      2013-12-30\n",
       "          ...    \n",
       "421    2021-12-27\n",
       "422    2022-01-03\n",
       "423    2022-01-10\n",
       "424    2022-01-17\n",
       "425    2022-01-24\n",
       "Name: timestamp, Length: 426, dtype: period[D]"
      ]
     },
     "execution_count": 140,
     "metadata": {},
     "output_type": "execute_result"
    }
   ],
   "source": [
    "df_all_posts['timestamp']"
   ]
  },
  {
   "cell_type": "code",
   "execution_count": 141,
   "id": "731de277-9559-4cff-abfc-1f2b2fd34ae1",
   "metadata": {
    "execution": {
     "iopub.execute_input": "2022-09-26T01:13:20.307522Z",
     "iopub.status.busy": "2022-09-26T01:13:20.306848Z",
     "iopub.status.idle": "2022-09-26T01:13:20.313490Z",
     "shell.execute_reply": "2022-09-26T01:13:20.312361Z",
     "shell.execute_reply.started": "2022-09-26T01:13:20.307471Z"
    },
    "tags": []
   },
   "outputs": [],
   "source": [
    "import matplotlib.ticker as plticker"
   ]
  },
  {
   "cell_type": "code",
   "execution_count": null,
   "id": "c78c9a66-6bdf-4253-85cd-d9dbee774d23",
   "metadata": {
    "execution": {
     "iopub.execute_input": "2022-09-26T01:13:24.735029Z",
     "iopub.status.busy": "2022-09-26T01:13:24.734368Z",
     "iopub.status.idle": "2022-09-26T01:18:45.741296Z",
     "shell.execute_reply": "2022-09-26T01:18:45.740809Z",
     "shell.execute_reply.started": "2022-09-26T01:13:24.734979Z"
    },
    "tags": []
   },
   "outputs": [],
   "source": [
    "for column in df:\n",
    "    \n",
    "    print(' ')\n",
    "    print('burst detection for:', column)\n",
    "    print(' ')\n",
    "    \n",
    "    #number of target events at each time point\n",
    "    df_list = df[column].to_numpy(dtype=float)\n",
    "    r = np.array(df_list, dtype=float)\n",
    "    \n",
    "    #total number of events at each time point\n",
    "    df_all_posts_list = df_all_posts['count'].tolist()\n",
    "    d = np.array(df_all_posts_list, dtype=float)\n",
    "        \n",
    "    #number of time points\n",
    "    n = len(r)\n",
    "    \n",
    "    #find the optimal state sequence (q)\n",
    "    q, d, r, p = bd.burst_detection(r,d,n,s=1.5,gamma=1,smooth_win=1)\n",
    "    \n",
    "    #enumerate bursts based on the optimal state sequence\n",
    "    bursts = bd.enumerate_bursts(q, 'burstLabel')\n",
    "    \n",
    "    #find weight of bursts\n",
    "    weighted_bursts = bd.burst_weights(bursts,r,d,p)\n",
    "    \n",
    "    print('observed probabilities: ')\n",
    "    print(str(r/d))\n",
    "\n",
    "    print('optimal state sequence: ')\n",
    "    print(str(q.T))\n",
    "\n",
    "    print('baseline probability: ' + str(p[0]))\n",
    "\n",
    "    print('bursty probability: ' + str(p[1]))\n",
    "\n",
    "    print('weighted bursts:')\n",
    "    print(weighted_bursts)\n",
    "\n",
    "    org_r = r\n",
    "\n",
    "    fig, ax1 = plt.subplots(figsize=(15, 5))\n",
    "    ax1.plot(df_all_posts.index, org_r/d, color='#00bbcc', linewidth=1)\n",
    "    plt.yticks(size=14);\n",
    "    plt.xticks(np.arange(min(df_all_posts.index), max(df_all_posts.index)+1, 20))\n",
    "    plt.ylabel('proportion of target events', size=14)\n",
    "    plt.xlabel('burst sequence', size=14)\n",
    "\n",
    "    ax2 = ax1.twiny() \n",
    "    ax2.set_xlim(ax1.get_xlim())\n",
    "    ax2.set_xticks(df_all_posts.index)\n",
    "\n",
    "    ax2.xaxis.set_ticks_position(\"bottom\")\n",
    "    ax2.xaxis.set_label_position(\"bottom\")\n",
    "\n",
    "    ax2.spines[\"bottom\"].set_position((\"axes\", -0.2))\n",
    "\n",
    "    ax2.set_frame_on(True)\n",
    "    ax2.patch.set_visible(False)\n",
    "\n",
    "    for sp in ax2.spines.values():\n",
    "        sp.set_visible(False)\n",
    "    ax2.spines[\"bottom\"].set_visible(True)\n",
    "\n",
    "    ax2.set_xlabel(r\"date\")\n",
    "\n",
    "    ax2.set_xticklabels(df_all_posts['timestamp'], rotation=45, ha='right')\n",
    "    loc = plticker.MultipleLocator(base=10)\n",
    "    ax2.xaxis.set_major_locator(loc)\n",
    "\n",
    "    flattened = []\n",
    "    for sublist in q: \n",
    "        for val in sublist: \n",
    "            flattened.append(val)\n",
    "        \n",
    "    burst_sequences = array(flattened)\n",
    "\n",
    "    plt.fill_between(df_all_posts.index, plt.ylim()[1], plt.ylim()[0], alpha=0.4, where=(burst_sequences==True), color='green')\n",
    "    \n",
    "    plt.show()\n",
    "    \n",
    "    print('___________________________________________')"
   ]
  },
  {
   "cell_type": "code",
   "execution_count": null,
   "id": "fa3fbbda-fecb-44ab-bb38-b21d5a656869",
   "metadata": {},
   "outputs": [],
   "source": []
  }
 ],
 "metadata": {
  "kernelspec": {
   "display_name": "Python 3 (ipykernel)",
   "language": "python",
   "name": "python3"
  },
  "language_info": {
   "codemirror_mode": {
    "name": "ipython",
    "version": 3
   },
   "file_extension": ".py",
   "mimetype": "text/x-python",
   "name": "python",
   "nbconvert_exporter": "python",
   "pygments_lexer": "ipython3",
   "version": "3.9.7"
  }
 },
 "nbformat": 4,
 "nbformat_minor": 5
}
